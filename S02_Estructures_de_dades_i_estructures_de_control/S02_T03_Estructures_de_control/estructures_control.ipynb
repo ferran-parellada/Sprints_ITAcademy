{
 "cells": [
  {
   "cell_type": "markdown",
   "id": "f07080f2",
   "metadata": {},
   "source": [
    "# Descripció\n",
    "\n",
    "Comencem a familiaritzar-nos amb les estructures de control de Python "
   ]
  },
  {
   "cell_type": "markdown",
   "id": "6c955621",
   "metadata": {},
   "source": [
    "## <span style='color:Blue'>Nivell 1</span>"
   ]
  },
  {
   "cell_type": "markdown",
   "id": "02c17e33",
   "metadata": {},
   "source": [
    "### Exercici 1\n",
    "\n",
    "L'exercici consisteix a crear un programa que et classifiqui una variable numèrica en funció de l’escala Suspès/Aprovat/Notable/Excel·lent. "
   ]
  },
  {
   "cell_type": "code",
   "execution_count": 38,
   "id": "4c2791ec",
   "metadata": {},
   "outputs": [
    {
     "name": "stdout",
     "output_type": "stream",
     "text": [
      "Qualificació sobre 5\n",
      "Nota : 4 -> Suspès\n",
      "Nota : 5.5 -> Aprovat\n",
      "Nota : 8.4 -> Notable\n",
      "Nota : 9.2 -> Excel·lent\n",
      "-------------------------\n",
      "Qualificació sobre 7\n",
      "Nota : 4 -> Suspès\n",
      "Nota : 5.5 -> Suspès\n",
      "Nota : 8.4 -> Aprovat\n",
      "Nota : 9.2 -> Aprovat\n"
     ]
    }
   ],
   "source": [
    "def valoracioPerNota(nota):\n",
    "    # Criteris de ponderació limitats pel valor més alt, no inclòs\n",
    "    escala = {\"Suspès\": 5, \"Aprovat\": 7, \"Notable\": 9, \"Excel·lent\": 10}\n",
    "    qualificació = \"\"\n",
    "    for clau, valor in escala.items():\n",
    "        if nota < valor:\n",
    "            qualificació = clau\n",
    "            break\n",
    "    print(\"Nota :\", nota, \"->\",qualificació)\n",
    "\n",
    "print(\"Qualificació sobre 5\")\n",
    "valoracioPerNota(4)\n",
    "valoracioPerNota(5.5)\n",
    "valoracioPerNota(8.4)\n",
    "valoracioPerNota(9.2)\n",
    "\n",
    "# Es pot modificar l'escala sense afectar a la resta del codi\n",
    "def valoracioPerNota(nota):\n",
    "    # Criteris de ponderació limitats pel valor més alt, no inclòs\n",
    "    escala = {\"Suspès\": 7, \"Aprovat\": 10}\n",
    "    qualificació = \"\"\n",
    "    for clau, valor in escala.items():\n",
    "        if nota < valor:\n",
    "            qualificació = clau\n",
    "            break\n",
    "    print(\"Nota :\", nota, \"->\",qualificació)\n",
    "\n",
    "print(\"-\"*25)\n",
    "print(\"Qualificació sobre 7\") \n",
    "valoracioPerNota(4)\n",
    "valoracioPerNota(5.5)\n",
    "valoracioPerNota(8.4)\n",
    "valoracioPerNota(9.2)"
   ]
  },
  {
   "cell_type": "markdown",
   "id": "5792a5ee",
   "metadata": {},
   "source": [
    "### Exercici 2\n",
    "\n",
    "Utilitzant el següent tutorial Programiz: Python Input, Output and Import crea un programa que et pregunti dos números. T’ha de mostrar un missatge dient si el primer és més gran, el segon és més gran o són iguals."
   ]
  },
  {
   "cell_type": "code",
   "execution_count": 8,
   "id": "073b1ce5",
   "metadata": {},
   "outputs": [
    {
     "name": "stdout",
     "output_type": "stream",
     "text": [
      "Introdueix el primer nombre : 4\n",
      "Introdueix el segon nombre : 6\n",
      "El segon nombre ( 6 ) és més gran que el primer ( 4 )\n"
     ]
    }
   ],
   "source": [
    "nombre1 = int(input(\"Introdueix el primer nombre : \"))\n",
    "nombre2 = int(input(\"Introdueix el segon nombre : \"))\n",
    "\n",
    "if nombre1 > nombre2:\n",
    "    print(\"El primer nombre (\", nombre1, \") és més gran que el segon (\", nombre2, \")\")\n",
    "elif nombre1 < nombre2:\n",
    "    print(\"El segon nombre (\", nombre2, \") és més gran que el primer (\", nombre1, \")\")\n",
    "else:\n",
    "    print(\"Els dos nombres són iguals\")"
   ]
  },
  {
   "cell_type": "markdown",
   "id": "be089cd1",
   "metadata": {},
   "source": [
    "### Exercici 3\n",
    "\n",
    "Crea un programa que et pregunti el teu nom, i et demani un número. Si el número és 0, hauria de mostrar un missatge d’error. En cas contrari, hauria de mostrar el nom repetit tants cops com indiqui el número. Per exemple, “Joan Joan Joan”."
   ]
  },
  {
   "cell_type": "code",
   "execution_count": 11,
   "id": "37744efe",
   "metadata": {},
   "outputs": [
    {
     "name": "stdout",
     "output_type": "stream",
     "text": [
      "Introdueix el teu nom : Ferran\n",
      "Ara introdueix un número : 3\n",
      "Ferran Ferran Ferran "
     ]
    }
   ],
   "source": [
    "nom = input(\"Introdueix el teu nom : \")\n",
    "num = int(input(\"Ara introdueix un número : \"))\n",
    "\n",
    "if num == 0:\n",
    "    print(\"Error! Hauries d'haver introduit un número major que zero.\")\n",
    "else:\n",
    "    for vegades in range(num):\n",
    "        print(nom, end=\" \")"
   ]
  },
  {
   "cell_type": "markdown",
   "id": "8ddf9ae8",
   "metadata": {},
   "source": [
    "### Exercici 4\n",
    "\n",
    "Crea un programa que donada una llista qualsevol, et digui si es simètrica o no. Si ho és, que et digui quants elements té."
   ]
  },
  {
   "cell_type": "code",
   "execution_count": 21,
   "id": "211c85b8",
   "metadata": {},
   "outputs": [
    {
     "name": "stdout",
     "output_type": "stream",
     "text": [
      "La llista  ['Poma', 3, 25.5, True] no és simètrica\n",
      "La llista  [1, 2, 3, 2, 1] és simètrica i té 5 elements\n"
     ]
    }
   ],
   "source": [
    "def esLlistaSimetrica(llista):\n",
    "    itemSimetric = -1\n",
    "    llistaSimetrica = True\n",
    "    for element in llista:\n",
    "        if element == llista[itemSimetric]:\n",
    "            itemSimetric -= 1\n",
    "        else:\n",
    "            print(\"La llista \", llista, \"no és simètrica\")\n",
    "            llistaSimetrica = False\n",
    "            break\n",
    "    \n",
    "    if llistaSimetrica: print(\"La llista \", llista, \"és simètrica i té\", len(llista), \"elements\")\n",
    "        \n",
    "\n",
    "llistaQualsevol = [\"Poma\", 3, 25.5, True]\n",
    "esLlistaSimetrica(llistaQualsevol)\n",
    "\n",
    "llistaQualsevol = [1, 2, 3, 2, 1]\n",
    "esLlistaSimetrica(llistaQualsevol)\n"
   ]
  },
  {
   "cell_type": "markdown",
   "id": "cc254fcf",
   "metadata": {},
   "source": [
    "### Exercici 5\n",
    "\n",
    "Crea un programa que donada una llista, et digui quants números coincideixen amb la seva posició. Per exemple [3,4,2,0,2,3,6] el 2 i el 6 coincideixen."
   ]
  },
  {
   "cell_type": "code",
   "execution_count": 30,
   "id": "f886232c",
   "metadata": {},
   "outputs": [
    {
     "name": "stdout",
     "output_type": "stream",
     "text": [
      "Els números que coincideixen amb la seva posició en la llista [3, 4, 2, 0, 2, 3, 6] són : 2, 6\n",
      "No hi ha coincidències d'elements i posició en la llista [1, 2, 3]\n"
     ]
    }
   ],
   "source": [
    "def numsCoincidentsEnLlista(llista):\n",
    "    listCoincidents = []\n",
    "    for index, valor in enumerate(llista):\n",
    "        if index == valor:\n",
    "            listCoincidents.append(str(index))\n",
    "\n",
    "    if len(listCoincidents) > 0:        \n",
    "        print(\"Els números que coincideixen amb la seva posició en la llista\", llista, \"són :\", end=\" \")\n",
    "        print(\", \".join(listCoincidents))\n",
    "    else:\n",
    "        print(\"No hi ha coincidències d'elements i posició en la llista\", llista)\n",
    "        \n",
    "numsCoincidentsEnLlista([3,4,2,0,2,3,6])\n",
    "numsCoincidentsEnLlista([1,2,3])     \n",
    "            "
   ]
  },
  {
   "cell_type": "code",
   "execution_count": null,
   "id": "cb473610",
   "metadata": {},
   "outputs": [],
   "source": []
  }
 ],
 "metadata": {
  "kernelspec": {
   "display_name": "Python 3",
   "language": "python",
   "name": "python3"
  },
  "language_info": {
   "codemirror_mode": {
    "name": "ipython",
    "version": 3
   },
   "file_extension": ".py",
   "mimetype": "text/x-python",
   "name": "python",
   "nbconvert_exporter": "python",
   "pygments_lexer": "ipython3",
   "version": "3.8.8"
  }
 },
 "nbformat": 4,
 "nbformat_minor": 5
}
