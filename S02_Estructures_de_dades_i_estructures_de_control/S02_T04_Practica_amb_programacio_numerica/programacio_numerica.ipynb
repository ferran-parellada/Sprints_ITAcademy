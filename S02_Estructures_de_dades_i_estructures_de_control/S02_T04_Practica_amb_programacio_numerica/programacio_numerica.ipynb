{
 "cells": [
  {
   "cell_type": "markdown",
   "id": "4cab01d3",
   "metadata": {},
   "source": [
    "# Descripció\n",
    "\n",
    "Familiaritza't amb la Programació Numèrica a través de la llibreria NumPy. "
   ]
  },
  {
   "cell_type": "markdown",
   "id": "07e402f5",
   "metadata": {},
   "source": [
    "## <span style='color:Blue'>Nivell 1</span>"
   ]
  },
  {
   "cell_type": "markdown",
   "id": "325d3c9d",
   "metadata": {},
   "source": [
    "### Exercici 1\n",
    "\n",
    "Crea una funció que donat un Array d’una dimensió, et faci un resum estadístic bàsic de les dades. Si detecta que l’array té més d’una dimensió, ha de mostrar un missatge d’error."
   ]
  },
  {
   "cell_type": "code",
   "execution_count": 10,
   "id": "881033c7",
   "metadata": {},
   "outputs": [],
   "source": [
    "import numpy as np\n",
    "\n",
    "def resumEstadistic(arr):\n",
    "    if arr.ndim > 1:\n",
    "        print(\"Error: aquesta funció només admet numpy arrays d'una dimensió.\", end = \"\\n\")\n",
    "        print(\"-\" * 80)\n",
    "        return\n",
    "    print(\"Numpy array:\", arr)\n",
    "    print()\n",
    "    print(\"La suma dels valors és\", np.sum(arr))\n",
    "    print()\n",
    "    print(\"La mitja dels valors és:\", np.mean(arr), end = \"\\n\")\n",
    "    print()\n",
    "    print(\"El valor mínim és\", np.min(arr))    \n",
    "    print(\"El primer quartil és:\", np.percentile(arr, 25))\n",
    "    print(\"La mitjana dels valors és:\", np.median(arr), end = \"\\n\")\n",
    "    print(\"El tercer quartil és:\", np.percentile(arr, 75))\n",
    "    print(\"El valor màxim és\", np.max(arr))\n",
    "    print()\n",
    "    print(\"La desviació estàndar és:\", np.std(arr), end = \"\\n\")\n",
    "    \n",
    "    \n",
    "# Referència:\n",
    "# https://manualestutor.com/programacion/numpy-al-descubierto-una-guia-para-principiantes-sobre-estadisticas-con-numpy/\n",
    " \n"
   ]
  },
  {
   "cell_type": "code",
   "execution_count": 11,
   "id": "edeaecd2",
   "metadata": {},
   "outputs": [
    {
     "name": "stdout",
     "output_type": "stream",
     "text": [
      "Error: aquesta funció només admet numpy arrays d'una dimensió.\n",
      "--------------------------------------------------------------------------------\n"
     ]
    }
   ],
   "source": [
    "# nparray que donarà error perquè té més d'una dimensió\n",
    "arr2D = np.array([[1,2,3,4,5], [6,7,8,9,10]])\n",
    "resumEstadistic(arr2D)"
   ]
  },
  {
   "cell_type": "code",
   "execution_count": 12,
   "id": "a8ffad92",
   "metadata": {},
   "outputs": [
    {
     "name": "stdout",
     "output_type": "stream",
     "text": [
      "Numpy array: [ 1  2  3  4  5 20]\n",
      "\n",
      "La suma dels valors és 35\n",
      "\n",
      "La mitja dels valors és: 5.833333333333333\n",
      "\n",
      "El valor mínim és 1\n",
      "El primer quartil és: 2.25\n",
      "La mitjana dels valors és: 3.5\n",
      "El tercer quartil és: 4.75\n",
      "El valor màxim és 20\n",
      "\n",
      "La desviació estàndar és: 6.465721580423608\n"
     ]
    }
   ],
   "source": [
    "# nparray correcte, cas 1\n",
    "arr1D = np.array([1, 2, 3, 4, 5, 20])\n",
    "resumEstadistic(arr1D)"
   ]
  },
  {
   "cell_type": "markdown",
   "id": "912866a6",
   "metadata": {},
   "source": [
    "### Exercici 2\n",
    "\n",
    "Crea una funció que et generi un quadrat NxN de nombres aleatoris entre el 0 i el 100."
   ]
  },
  {
   "cell_type": "code",
   "execution_count": 13,
   "id": "8eae54aa",
   "metadata": {},
   "outputs": [],
   "source": [
    "# Nota: per l'enunciat no queda clar si el 100 ha d'estar inclòs o no.\n",
    "# Suposarem que SÍ."
   ]
  },
  {
   "cell_type": "code",
   "execution_count": 14,
   "id": "58b8787b",
   "metadata": {},
   "outputs": [
    {
     "name": "stdout",
     "output_type": "stream",
     "text": [
      "Array  5 x 5\n",
      "[[81 77 53 56 15]\n",
      " [52 10 75 16 69]\n",
      " [35 34 16 19 86]\n",
      " [71 78 56 84 38]\n",
      " [48 63 70 31 40]]\n",
      "--------------------\n",
      "Array  2 x 2\n",
      "[[ 1 59]\n",
      " [82  2]]\n"
     ]
    }
   ],
   "source": [
    "def quadratNxN(n):\n",
    "    return np.random.randint(101, size=(n, n))\n",
    "\n",
    "n = 5\n",
    "print(\"Array \", n, \"x\", n)\n",
    "print(quadratNxN(5))\n",
    "print(\"-\" * 20)\n",
    "n = 2\n",
    "print(\"Array \", n, \"x\", n)\n",
    "print(quadratNxN(2))"
   ]
  },
  {
   "cell_type": "markdown",
   "id": "53df79e6",
   "metadata": {},
   "source": [
    "### Exercici 3\n",
    "\n",
    "Crea una funció que donada una taula de dues dimensions, et calculi els totals per fila i els totals per columna. "
   ]
  },
  {
   "cell_type": "code",
   "execution_count": 15,
   "id": "f0ef5c2e",
   "metadata": {},
   "outputs": [
    {
     "name": "stdout",
     "output_type": "stream",
     "text": [
      "L'array és:\n",
      "[[   0   10]\n",
      " [ 100 1000]]\n",
      "La suma de les columnes és:\n",
      "[ 100 1010]\n",
      "La suma de les fileres és:\n",
      "[  10 1100]\n"
     ]
    }
   ],
   "source": [
    "def sumRowsColumns(arr):\n",
    "    print(\"La suma de les columnes és:\", np.sum(arr, axis=0), sep=\"\\n\")\n",
    "    print(\"La suma de les fileres és:\", np.sum(arr, axis=1), sep=\"\\n\")\n",
    "\n",
    "arr = np.array([[0, 10], [100, 1000]])\n",
    "print(\"L'array és:\", arr, sep=\"\\n\")\n",
    "sumRowsColumns(arr)"
   ]
  },
  {
   "cell_type": "markdown",
   "id": "41173c27",
   "metadata": {},
   "source": [
    "### Exercici 4\n",
    "\n",
    "Implementa manualment una funció que calculi el coeficient de correlació. Informa’t-en sobre els seus usos i interpretació."
   ]
  },
  {
   "attachments": {
    "correlacio.jpg": {
     "image/jpeg": "[encoded data removed]"
    }
   },
   "cell_type": "markdown",
   "id": "fdf00bbe",
   "metadata": {},
   "source": [
    "Fòrmula segons Wikipèdia:\n",
    "\n",
    "![correlacio.jpg](attachment:correlacio.jpg)"
   ]
  },
  {
   "cell_type": "code",
   "execution_count": 16,
   "id": "ab1d77b1",
   "metadata": {},
   "outputs": [],
   "source": [
    "# Restar la mitja a cada element\n",
    "def elementsMenysMitja(array):\n",
    "    elementsMenysMitja = []\n",
    "    for item in array:        \n",
    "        mitja = np.mean(item)        \n",
    "        aux2 = []\n",
    "        for element in item:            \n",
    "            aux2.append(element-mitja)\n",
    "        elementsMenysMitja.append(aux2)  \n",
    "    \n",
    "    return elementsMenysMitja\n",
    "\n",
    "# Càlcul covariança\n",
    "def covManual(array):\n",
    "        \n",
    "    elementsMenysMitjaTrasposat = np.transpose(elementsMenysMitja(array))\n",
    "    \n",
    "    sum = 0\n",
    "    \n",
    "    for item in elementsMenysMitjaTrasposat:\n",
    "        result = 1\n",
    "        for element in item:            \n",
    "            result *= element        \n",
    "        \n",
    "        sum += result        \n",
    "        \n",
    "    return sum / len(array[0])\n",
    "\n",
    "# Càlcul correlació\n",
    "def corrManual(array):\n",
    "    \n",
    "    # producte desviacions estàndar\n",
    "    producte = 1\n",
    "    for item in array:\n",
    "        producte *= np.std(item)\n",
    "        \n",
    "    # la correlació és la covariança / producte desviacions\n",
    "    return covManual(array) / producte\n",
    "       "
   ]
  },
  {
   "cell_type": "code",
   "execution_count": 17,
   "id": "e68ef661",
   "metadata": {},
   "outputs": [
    {
     "name": "stdout",
     "output_type": "stream",
     "text": [
      "Correlació calculada manualment: -0.5884898863364998\n",
      "\n",
      "Correlació per funció de numpy: -0.5884898863364998\n"
     ]
    }
   ],
   "source": [
    "array = [[1,0,0,3,1], [3,6,6,2,9]]\n",
    "\n",
    "print(\"Correlació calculada manualment:\", corrManual(array))\n",
    "print()\n",
    "print(\"Correlació per funció de numpy:\", np.corrcoef(array)[0][1])"
   ]
  },
  {
   "cell_type": "markdown",
   "id": "6e74aa27",
   "metadata": {},
   "source": [
    "El coeficient de correlació, a l'igual que la covariança, indica la relació entre dues o més variables, amb la condició que siguin quantitatives i contínues. \n",
    "\n",
    "La covariança indica si les dues variables *varien* en la mateixa direcció (covariança positiva) o en la direcció oposada (covariança negativa). No importa el valor numèric de covariança, només el signe és útil.\n",
    "\n",
    "Per la seva banda, la correlació explica quantitivament el canvi de proporció de la segona variable. La correlació varia entre 1 i -1 (es parla en aquests casos de relació lineal perfecta en cada signe), però quant més s'acosta a zero menys *força* té la relació. \n",
    "\n",
    "Per això amb la correlació es pot quantificar el que visualment s'aprecia amb els gràfics de dispersió.\n",
    "\n",
    "Referències:\n",
    "\n",
    "[Covarianza y correlación: comprendiendo su utilidad](https://sitiobigdata.com/2019/10/26/covarianza-y-correlacion/#)\n",
    "\n",
    "[Article a la Wikipèdia](https://es.wikipedia.org/wiki/Coeficiente_de_correlaci%C3%B3n_de_Pearson)"
   ]
  }
 ],
 "metadata": {
  "kernelspec": {
   "display_name": "Python 3",
   "language": "python",
   "name": "python3"
  },
  "language_info": {
   "codemirror_mode": {
    "name": "ipython",
    "version": 3
   },
   "file_extension": ".py",
   "mimetype": "text/x-python",
   "name": "python",
   "nbconvert_exporter": "python",
   "pygments_lexer": "ipython3",
   "version": "3.8.8"
  }
 },
 "nbformat": 4,
 "nbformat_minor": 5
}
