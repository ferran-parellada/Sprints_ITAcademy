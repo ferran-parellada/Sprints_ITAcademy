{
 "cells": [
  {
   "cell_type": "markdown",
   "id": "b1831dd7",
   "metadata": {},
   "source": [
    "# Descripció\n",
    "\n",
    "Familiaritza't amb les tècniques d'exploració de les dades mitjantçant la estructura de dades, Dataframe amb la llibreria Pandas. "
   ]
  },
  {
   "cell_type": "markdown",
   "id": "00f40940",
   "metadata": {},
   "source": [
    "## <span style='color:Blue'>Nivell 1</span>"
   ]
  },
  {
   "cell_type": "markdown",
   "id": "9bbd55fd",
   "metadata": {},
   "source": [
    "### Exercici 1\n",
    "\n",
    "Descarrega el data set Airlines Delay: Airline on-time statistics and delay causes i carrega’l a un pandas Dataframe. Explora les dades que conté, i queda’t únicament amb les columnes que consideris rellevants."
   ]
  },
  {
   "cell_type": "code",
   "execution_count": 31,
   "id": "959dbd5c",
   "metadata": {},
   "outputs": [],
   "source": [
    "# Importació de la llibreria\n",
    "import pandas as pd"
   ]
  },
  {
   "cell_type": "code",
   "execution_count": 32,
   "id": "a8782ed8",
   "metadata": {},
   "outputs": [],
   "source": [
    "# Carregar les dades\n",
    "df = pd.read_csv(\"dades/DelayedFlights.csv\")"
   ]
  },
  {
   "cell_type": "markdown",
   "id": "823299af",
   "metadata": {},
   "source": [
    "Explicació del df (extreta de https://www.kaggle.com/adveros/flight-delay-eda-exploratory-data-analysis)\n",
    "\n",
    "This dataset is composed by the following variables:\n",
    "\n",
    "   **Year** 2008\n",
    "   \n",
    "   **Month** 1-12\n",
    "   \n",
    "   **DayofMonth** 1-31\n",
    "   \n",
    "   **DayOfWeek** 1 (Monday) - 7 (Sunday)\n",
    "   \n",
    "   **DepTime** actual departure time (local, hhmm)\n",
    "   \n",
    "   **CRSDepTime** scheduled departure time (local, hhmm)\n",
    "   \n",
    "   **ArrTime** actual arrival time (local, hhmm)\n",
    "   \n",
    "   **CRSArrTime** scheduled arrival time (local, hhmm)\n",
    "   \n",
    "   **UniqueCarrier** unique carrier code\n",
    "   \n",
    "   **FlightNum** flight number\n",
    "   \n",
    "   **TailNum** plane tail number: aircraft registration, unique aircraft identifier\n",
    "   \n",
    "   **ActualElapsedTime** in minutes\n",
    "   \n",
    "   **CRSElapsedTime** in minutes\n",
    "   \n",
    "   **AirTime** in minutes\n",
    "   \n",
    "   **ArrDelay** arrival delay, in minutes: A flight is counted as \"on time\" if it operated less than 15 minutes later the scheduled time shown in the carriers' Computerized Reservations Systems (CRS)\n",
    "   \n",
    "   **DepDelay** departure delay, in minutes\n",
    "    \n",
    "   **Origin** origin IATA airport code\n",
    "   \n",
    "   **Dest** destination IATA airport code\n",
    "   \n",
    "   **Distance** in miles\n",
    "   \n",
    "   **TaxiIn** taxi in time, in minutes\n",
    "   \n",
    "   **TaxiOut** taxi out time in minutes\n",
    "   \n",
    "   **Cancelled** *was the flight cancelled\n",
    "   \n",
    "   **CancellationCode** reason for cancellation (A = carrier, B = weather, C = NAS, D = security)\n",
    "   \n",
    "   **Diverted** 1 = yes, 0 = no\n",
    "   \n",
    "   **CarrierDelay** in minutes: Carrier delay is within the control of the air carrier. Examples of occurrences that may determine carrier delay are: aircraft cleaning, aircraft damage, awaiting the arrival of connecting passengers or crew, baggage, bird strike, cargo loading, catering, computer, outage-carrier equipment, crew legality (pilot or attendant rest), damage by hazardous goods, engineering inspection, fueling, handling disabled passengers, late crew, lavatory servicing, maintenance, oversales, potable water servicing, removal of unruly passenger, slow boarding or seating, stowing carry-on baggage, weight and balance delays.\n",
    "   \n",
    "   **WeatherDelay** in minutes: Weather delay is caused by extreme or hazardous weather conditions that are forecasted or manifest themselves on point of departure, enroute, or on point of arrival.\n",
    "   \n",
    "  **NASDelay** in minutes: Delay that is within the control of the National Airspace System (NAS) may include: non-extreme weather conditions, airport operations, heavy traffic volume, air traffic control, etc.\n",
    "  \n",
    "  **SecurityDelay** in minutes: Security delay is caused by evacuation of a terminal or concourse, re-boarding of aircraft because of security breach, inoperative screening equipment and/or long lines in excess of 29 minutes at screening areas.\n",
    "  \n",
    "  **LateAircraftDelay** in minutes: Arrival delay at an airport due to the late arrival of the same aircraft at a previous airport. The ripple effect of an earlier delay at downstream airports is referred to as delay propagation."
   ]
  },
  {
   "cell_type": "code",
   "execution_count": 33,
   "id": "d3feb25c",
   "metadata": {},
   "outputs": [
    {
     "data": {
      "text/plain": [
       "Index(['Unnamed: 0', 'Year', 'Month', 'DayofMonth', 'DayOfWeek', 'DepTime',\n",
       "       'CRSDepTime', 'ArrTime', 'CRSArrTime', 'UniqueCarrier', 'FlightNum',\n",
       "       'TailNum', 'ActualElapsedTime', 'CRSElapsedTime', 'AirTime', 'ArrDelay',\n",
       "       'DepDelay', 'Origin', 'Dest', 'Distance', 'TaxiIn', 'TaxiOut',\n",
       "       'Cancelled', 'CancellationCode', 'Diverted', 'CarrierDelay',\n",
       "       'WeatherDelay', 'NASDelay', 'SecurityDelay', 'LateAircraftDelay'],\n",
       "      dtype='object')"
      ]
     },
     "execution_count": 33,
     "metadata": {},
     "output_type": "execute_result"
    }
   ],
   "source": [
    "# Mostrar nom de columnes -> columns\n",
    "df.columns"
   ]
  },
  {
   "cell_type": "code",
   "execution_count": 34,
   "id": "2b08a5d5",
   "metadata": {},
   "outputs": [
    {
     "data": {
      "text/plain": [
       "Unnamed: 0             int64\n",
       "Year                   int64\n",
       "Month                  int64\n",
       "DayofMonth             int64\n",
       "DayOfWeek              int64\n",
       "DepTime              float64\n",
       "CRSDepTime             int64\n",
       "ArrTime              float64\n",
       "CRSArrTime             int64\n",
       "UniqueCarrier         object\n",
       "FlightNum              int64\n",
       "TailNum               object\n",
       "ActualElapsedTime    float64\n",
       "CRSElapsedTime       float64\n",
       "AirTime              float64\n",
       "ArrDelay             float64\n",
       "DepDelay             float64\n",
       "Origin                object\n",
       "Dest                  object\n",
       "Distance               int64\n",
       "TaxiIn               float64\n",
       "TaxiOut              float64\n",
       "Cancelled              int64\n",
       "CancellationCode      object\n",
       "Diverted               int64\n",
       "CarrierDelay         float64\n",
       "WeatherDelay         float64\n",
       "NASDelay             float64\n",
       "SecurityDelay        float64\n",
       "LateAircraftDelay    float64\n",
       "dtype: object"
      ]
     },
     "execution_count": 34,
     "metadata": {},
     "output_type": "execute_result"
    }
   ],
   "source": [
    "# Mostrar typus de les dades en les columnes\n",
    "df.dtypes"
   ]
  },
  {
   "cell_type": "code",
   "execution_count": 35,
   "id": "a38c074f",
   "metadata": {},
   "outputs": [
    {
     "data": {
      "text/html": [
       "<div>\n",
       "<style scoped>\n",
       "    .dataframe tbody tr th:only-of-type {\n",
       "        vertical-align: middle;\n",
       "    }\n",
       "\n",
       "    .dataframe tbody tr th {\n",
       "        vertical-align: top;\n",
       "    }\n",
       "\n",
       "    .dataframe thead th {\n",
       "        text-align: right;\n",
       "    }\n",
       "</style>\n",
       "<table border=\"1\" class=\"dataframe\">\n",
       "  <thead>\n",
       "    <tr style=\"text-align: right;\">\n",
       "      <th></th>\n",
       "      <th>Unnamed: 0</th>\n",
       "      <th>Year</th>\n",
       "      <th>Month</th>\n",
       "      <th>DayofMonth</th>\n",
       "      <th>DayOfWeek</th>\n",
       "      <th>DepTime</th>\n",
       "      <th>CRSDepTime</th>\n",
       "      <th>ArrTime</th>\n",
       "      <th>CRSArrTime</th>\n",
       "      <th>UniqueCarrier</th>\n",
       "      <th>...</th>\n",
       "      <th>TaxiIn</th>\n",
       "      <th>TaxiOut</th>\n",
       "      <th>Cancelled</th>\n",
       "      <th>CancellationCode</th>\n",
       "      <th>Diverted</th>\n",
       "      <th>CarrierDelay</th>\n",
       "      <th>WeatherDelay</th>\n",
       "      <th>NASDelay</th>\n",
       "      <th>SecurityDelay</th>\n",
       "      <th>LateAircraftDelay</th>\n",
       "    </tr>\n",
       "  </thead>\n",
       "  <tbody>\n",
       "    <tr>\n",
       "      <th>0</th>\n",
       "      <td>0</td>\n",
       "      <td>2008</td>\n",
       "      <td>1</td>\n",
       "      <td>3</td>\n",
       "      <td>4</td>\n",
       "      <td>2003.0</td>\n",
       "      <td>1955</td>\n",
       "      <td>2211.0</td>\n",
       "      <td>2225</td>\n",
       "      <td>WN</td>\n",
       "      <td>...</td>\n",
       "      <td>4.0</td>\n",
       "      <td>8.0</td>\n",
       "      <td>0</td>\n",
       "      <td>N</td>\n",
       "      <td>0</td>\n",
       "      <td>NaN</td>\n",
       "      <td>NaN</td>\n",
       "      <td>NaN</td>\n",
       "      <td>NaN</td>\n",
       "      <td>NaN</td>\n",
       "    </tr>\n",
       "    <tr>\n",
       "      <th>1</th>\n",
       "      <td>1</td>\n",
       "      <td>2008</td>\n",
       "      <td>1</td>\n",
       "      <td>3</td>\n",
       "      <td>4</td>\n",
       "      <td>754.0</td>\n",
       "      <td>735</td>\n",
       "      <td>1002.0</td>\n",
       "      <td>1000</td>\n",
       "      <td>WN</td>\n",
       "      <td>...</td>\n",
       "      <td>5.0</td>\n",
       "      <td>10.0</td>\n",
       "      <td>0</td>\n",
       "      <td>N</td>\n",
       "      <td>0</td>\n",
       "      <td>NaN</td>\n",
       "      <td>NaN</td>\n",
       "      <td>NaN</td>\n",
       "      <td>NaN</td>\n",
       "      <td>NaN</td>\n",
       "    </tr>\n",
       "    <tr>\n",
       "      <th>2</th>\n",
       "      <td>2</td>\n",
       "      <td>2008</td>\n",
       "      <td>1</td>\n",
       "      <td>3</td>\n",
       "      <td>4</td>\n",
       "      <td>628.0</td>\n",
       "      <td>620</td>\n",
       "      <td>804.0</td>\n",
       "      <td>750</td>\n",
       "      <td>WN</td>\n",
       "      <td>...</td>\n",
       "      <td>3.0</td>\n",
       "      <td>17.0</td>\n",
       "      <td>0</td>\n",
       "      <td>N</td>\n",
       "      <td>0</td>\n",
       "      <td>NaN</td>\n",
       "      <td>NaN</td>\n",
       "      <td>NaN</td>\n",
       "      <td>NaN</td>\n",
       "      <td>NaN</td>\n",
       "    </tr>\n",
       "    <tr>\n",
       "      <th>3</th>\n",
       "      <td>4</td>\n",
       "      <td>2008</td>\n",
       "      <td>1</td>\n",
       "      <td>3</td>\n",
       "      <td>4</td>\n",
       "      <td>1829.0</td>\n",
       "      <td>1755</td>\n",
       "      <td>1959.0</td>\n",
       "      <td>1925</td>\n",
       "      <td>WN</td>\n",
       "      <td>...</td>\n",
       "      <td>3.0</td>\n",
       "      <td>10.0</td>\n",
       "      <td>0</td>\n",
       "      <td>N</td>\n",
       "      <td>0</td>\n",
       "      <td>2.0</td>\n",
       "      <td>0.0</td>\n",
       "      <td>0.0</td>\n",
       "      <td>0.0</td>\n",
       "      <td>32.0</td>\n",
       "    </tr>\n",
       "    <tr>\n",
       "      <th>4</th>\n",
       "      <td>5</td>\n",
       "      <td>2008</td>\n",
       "      <td>1</td>\n",
       "      <td>3</td>\n",
       "      <td>4</td>\n",
       "      <td>1940.0</td>\n",
       "      <td>1915</td>\n",
       "      <td>2121.0</td>\n",
       "      <td>2110</td>\n",
       "      <td>WN</td>\n",
       "      <td>...</td>\n",
       "      <td>4.0</td>\n",
       "      <td>10.0</td>\n",
       "      <td>0</td>\n",
       "      <td>N</td>\n",
       "      <td>0</td>\n",
       "      <td>NaN</td>\n",
       "      <td>NaN</td>\n",
       "      <td>NaN</td>\n",
       "      <td>NaN</td>\n",
       "      <td>NaN</td>\n",
       "    </tr>\n",
       "  </tbody>\n",
       "</table>\n",
       "<p>5 rows × 30 columns</p>\n",
       "</div>"
      ],
      "text/plain": [
       "   Unnamed: 0  Year  Month  DayofMonth  DayOfWeek  DepTime  CRSDepTime  \\\n",
       "0           0  2008      1           3          4   2003.0        1955   \n",
       "1           1  2008      1           3          4    754.0         735   \n",
       "2           2  2008      1           3          4    628.0         620   \n",
       "3           4  2008      1           3          4   1829.0        1755   \n",
       "4           5  2008      1           3          4   1940.0        1915   \n",
       "\n",
       "   ArrTime  CRSArrTime UniqueCarrier  ...  TaxiIn TaxiOut  Cancelled  \\\n",
       "0   2211.0        2225            WN  ...     4.0     8.0          0   \n",
       "1   1002.0        1000            WN  ...     5.0    10.0          0   \n",
       "2    804.0         750            WN  ...     3.0    17.0          0   \n",
       "3   1959.0        1925            WN  ...     3.0    10.0          0   \n",
       "4   2121.0        2110            WN  ...     4.0    10.0          0   \n",
       "\n",
       "   CancellationCode  Diverted  CarrierDelay  WeatherDelay NASDelay  \\\n",
       "0                 N         0           NaN           NaN      NaN   \n",
       "1                 N         0           NaN           NaN      NaN   \n",
       "2                 N         0           NaN           NaN      NaN   \n",
       "3                 N         0           2.0           0.0      0.0   \n",
       "4                 N         0           NaN           NaN      NaN   \n",
       "\n",
       "  SecurityDelay  LateAircraftDelay  \n",
       "0           NaN                NaN  \n",
       "1           NaN                NaN  \n",
       "2           NaN                NaN  \n",
       "3           0.0               32.0  \n",
       "4           NaN                NaN  \n",
       "\n",
       "[5 rows x 30 columns]"
      ]
     },
     "execution_count": 35,
     "metadata": {},
     "output_type": "execute_result"
    }
   ],
   "source": [
    "# Mostrar el 5 primers registres -> head() [cap]\n",
    "# afegint un valor com a paràmetre es pot especificar la quantitat de registres a mostrar \n",
    "df.head()"
   ]
  },
  {
   "cell_type": "code",
   "execution_count": 36,
   "id": "58d711cd",
   "metadata": {},
   "outputs": [],
   "source": [
    "# Eliminació de columnes innecesàries\n",
    "# L'any, perquè sempre és 2008\n",
    "# Raons de l'endarreriment\n",
    "newDf = df.drop([\"Year\", \"TailNum\", \"TaxiIn\", \"TaxiOut\", \"CancellationCode\", \"Diverted\", \"CarrierDelay\", \"WeatherDelay\", \"NASDelay\", \"SecurityDelay\", \"LateAircraftDelay\"], axis = 1)"
   ]
  },
  {
   "cell_type": "code",
   "execution_count": 37,
   "id": "25e92833",
   "metadata": {},
   "outputs": [
    {
     "data": {
      "text/html": [
       "<div>\n",
       "<style scoped>\n",
       "    .dataframe tbody tr th:only-of-type {\n",
       "        vertical-align: middle;\n",
       "    }\n",
       "\n",
       "    .dataframe tbody tr th {\n",
       "        vertical-align: top;\n",
       "    }\n",
       "\n",
       "    .dataframe thead th {\n",
       "        text-align: right;\n",
       "    }\n",
       "</style>\n",
       "<table border=\"1\" class=\"dataframe\">\n",
       "  <thead>\n",
       "    <tr style=\"text-align: right;\">\n",
       "      <th></th>\n",
       "      <th>Unnamed: 0</th>\n",
       "      <th>Month</th>\n",
       "      <th>DayofMonth</th>\n",
       "      <th>DayOfWeek</th>\n",
       "      <th>DepTime</th>\n",
       "      <th>CRSDepTime</th>\n",
       "      <th>ArrTime</th>\n",
       "      <th>CRSArrTime</th>\n",
       "      <th>UniqueCarrier</th>\n",
       "      <th>FlightNum</th>\n",
       "      <th>ActualElapsedTime</th>\n",
       "      <th>CRSElapsedTime</th>\n",
       "      <th>AirTime</th>\n",
       "      <th>ArrDelay</th>\n",
       "      <th>DepDelay</th>\n",
       "      <th>Origin</th>\n",
       "      <th>Dest</th>\n",
       "      <th>Distance</th>\n",
       "      <th>Cancelled</th>\n",
       "    </tr>\n",
       "  </thead>\n",
       "  <tbody>\n",
       "    <tr>\n",
       "      <th>0</th>\n",
       "      <td>0</td>\n",
       "      <td>1</td>\n",
       "      <td>3</td>\n",
       "      <td>4</td>\n",
       "      <td>2003.0</td>\n",
       "      <td>1955</td>\n",
       "      <td>2211.0</td>\n",
       "      <td>2225</td>\n",
       "      <td>WN</td>\n",
       "      <td>335</td>\n",
       "      <td>128.0</td>\n",
       "      <td>150.0</td>\n",
       "      <td>116.0</td>\n",
       "      <td>-14.0</td>\n",
       "      <td>8.0</td>\n",
       "      <td>IAD</td>\n",
       "      <td>TPA</td>\n",
       "      <td>810</td>\n",
       "      <td>0</td>\n",
       "    </tr>\n",
       "    <tr>\n",
       "      <th>1</th>\n",
       "      <td>1</td>\n",
       "      <td>1</td>\n",
       "      <td>3</td>\n",
       "      <td>4</td>\n",
       "      <td>754.0</td>\n",
       "      <td>735</td>\n",
       "      <td>1002.0</td>\n",
       "      <td>1000</td>\n",
       "      <td>WN</td>\n",
       "      <td>3231</td>\n",
       "      <td>128.0</td>\n",
       "      <td>145.0</td>\n",
       "      <td>113.0</td>\n",
       "      <td>2.0</td>\n",
       "      <td>19.0</td>\n",
       "      <td>IAD</td>\n",
       "      <td>TPA</td>\n",
       "      <td>810</td>\n",
       "      <td>0</td>\n",
       "    </tr>\n",
       "    <tr>\n",
       "      <th>2</th>\n",
       "      <td>2</td>\n",
       "      <td>1</td>\n",
       "      <td>3</td>\n",
       "      <td>4</td>\n",
       "      <td>628.0</td>\n",
       "      <td>620</td>\n",
       "      <td>804.0</td>\n",
       "      <td>750</td>\n",
       "      <td>WN</td>\n",
       "      <td>448</td>\n",
       "      <td>96.0</td>\n",
       "      <td>90.0</td>\n",
       "      <td>76.0</td>\n",
       "      <td>14.0</td>\n",
       "      <td>8.0</td>\n",
       "      <td>IND</td>\n",
       "      <td>BWI</td>\n",
       "      <td>515</td>\n",
       "      <td>0</td>\n",
       "    </tr>\n",
       "    <tr>\n",
       "      <th>3</th>\n",
       "      <td>4</td>\n",
       "      <td>1</td>\n",
       "      <td>3</td>\n",
       "      <td>4</td>\n",
       "      <td>1829.0</td>\n",
       "      <td>1755</td>\n",
       "      <td>1959.0</td>\n",
       "      <td>1925</td>\n",
       "      <td>WN</td>\n",
       "      <td>3920</td>\n",
       "      <td>90.0</td>\n",
       "      <td>90.0</td>\n",
       "      <td>77.0</td>\n",
       "      <td>34.0</td>\n",
       "      <td>34.0</td>\n",
       "      <td>IND</td>\n",
       "      <td>BWI</td>\n",
       "      <td>515</td>\n",
       "      <td>0</td>\n",
       "    </tr>\n",
       "    <tr>\n",
       "      <th>4</th>\n",
       "      <td>5</td>\n",
       "      <td>1</td>\n",
       "      <td>3</td>\n",
       "      <td>4</td>\n",
       "      <td>1940.0</td>\n",
       "      <td>1915</td>\n",
       "      <td>2121.0</td>\n",
       "      <td>2110</td>\n",
       "      <td>WN</td>\n",
       "      <td>378</td>\n",
       "      <td>101.0</td>\n",
       "      <td>115.0</td>\n",
       "      <td>87.0</td>\n",
       "      <td>11.0</td>\n",
       "      <td>25.0</td>\n",
       "      <td>IND</td>\n",
       "      <td>JAX</td>\n",
       "      <td>688</td>\n",
       "      <td>0</td>\n",
       "    </tr>\n",
       "  </tbody>\n",
       "</table>\n",
       "</div>"
      ],
      "text/plain": [
       "   Unnamed: 0  Month  DayofMonth  DayOfWeek  DepTime  CRSDepTime  ArrTime  \\\n",
       "0           0      1           3          4   2003.0        1955   2211.0   \n",
       "1           1      1           3          4    754.0         735   1002.0   \n",
       "2           2      1           3          4    628.0         620    804.0   \n",
       "3           4      1           3          4   1829.0        1755   1959.0   \n",
       "4           5      1           3          4   1940.0        1915   2121.0   \n",
       "\n",
       "   CRSArrTime UniqueCarrier  FlightNum  ActualElapsedTime  CRSElapsedTime  \\\n",
       "0        2225            WN        335              128.0           150.0   \n",
       "1        1000            WN       3231              128.0           145.0   \n",
       "2         750            WN        448               96.0            90.0   \n",
       "3        1925            WN       3920               90.0            90.0   \n",
       "4        2110            WN        378              101.0           115.0   \n",
       "\n",
       "   AirTime  ArrDelay  DepDelay Origin Dest  Distance  Cancelled  \n",
       "0    116.0     -14.0       8.0    IAD  TPA       810          0  \n",
       "1    113.0       2.0      19.0    IAD  TPA       810          0  \n",
       "2     76.0      14.0       8.0    IND  BWI       515          0  \n",
       "3     77.0      34.0      34.0    IND  BWI       515          0  \n",
       "4     87.0      11.0      25.0    IND  JAX       688          0  "
      ]
     },
     "execution_count": 37,
     "metadata": {},
     "output_type": "execute_result"
    }
   ],
   "source": [
    "newDf.head()"
   ]
  },
  {
   "cell_type": "code",
   "execution_count": 38,
   "id": "a38fd18c",
   "metadata": {},
   "outputs": [],
   "source": [
    "# També la primera columna, sense nom, que no aporta res\n",
    "newDf = newDf.drop(df.columns[[0]], axis='columns')\n"
   ]
  },
  {
   "cell_type": "code",
   "execution_count": 39,
   "id": "942e748e",
   "metadata": {},
   "outputs": [
    {
     "data": {
      "text/html": [
       "<div>\n",
       "<style scoped>\n",
       "    .dataframe tbody tr th:only-of-type {\n",
       "        vertical-align: middle;\n",
       "    }\n",
       "\n",
       "    .dataframe tbody tr th {\n",
       "        vertical-align: top;\n",
       "    }\n",
       "\n",
       "    .dataframe thead th {\n",
       "        text-align: right;\n",
       "    }\n",
       "</style>\n",
       "<table border=\"1\" class=\"dataframe\">\n",
       "  <thead>\n",
       "    <tr style=\"text-align: right;\">\n",
       "      <th></th>\n",
       "      <th>Month</th>\n",
       "      <th>DayofMonth</th>\n",
       "      <th>DayOfWeek</th>\n",
       "      <th>DepTime</th>\n",
       "      <th>CRSDepTime</th>\n",
       "      <th>ArrTime</th>\n",
       "      <th>CRSArrTime</th>\n",
       "      <th>UniqueCarrier</th>\n",
       "      <th>FlightNum</th>\n",
       "      <th>ActualElapsedTime</th>\n",
       "      <th>CRSElapsedTime</th>\n",
       "      <th>AirTime</th>\n",
       "      <th>ArrDelay</th>\n",
       "      <th>DepDelay</th>\n",
       "      <th>Origin</th>\n",
       "      <th>Dest</th>\n",
       "      <th>Distance</th>\n",
       "      <th>Cancelled</th>\n",
       "    </tr>\n",
       "  </thead>\n",
       "  <tbody>\n",
       "    <tr>\n",
       "      <th>0</th>\n",
       "      <td>1</td>\n",
       "      <td>3</td>\n",
       "      <td>4</td>\n",
       "      <td>2003.0</td>\n",
       "      <td>1955</td>\n",
       "      <td>2211.0</td>\n",
       "      <td>2225</td>\n",
       "      <td>WN</td>\n",
       "      <td>335</td>\n",
       "      <td>128.0</td>\n",
       "      <td>150.0</td>\n",
       "      <td>116.0</td>\n",
       "      <td>-14.0</td>\n",
       "      <td>8.0</td>\n",
       "      <td>IAD</td>\n",
       "      <td>TPA</td>\n",
       "      <td>810</td>\n",
       "      <td>0</td>\n",
       "    </tr>\n",
       "    <tr>\n",
       "      <th>1</th>\n",
       "      <td>1</td>\n",
       "      <td>3</td>\n",
       "      <td>4</td>\n",
       "      <td>754.0</td>\n",
       "      <td>735</td>\n",
       "      <td>1002.0</td>\n",
       "      <td>1000</td>\n",
       "      <td>WN</td>\n",
       "      <td>3231</td>\n",
       "      <td>128.0</td>\n",
       "      <td>145.0</td>\n",
       "      <td>113.0</td>\n",
       "      <td>2.0</td>\n",
       "      <td>19.0</td>\n",
       "      <td>IAD</td>\n",
       "      <td>TPA</td>\n",
       "      <td>810</td>\n",
       "      <td>0</td>\n",
       "    </tr>\n",
       "    <tr>\n",
       "      <th>2</th>\n",
       "      <td>1</td>\n",
       "      <td>3</td>\n",
       "      <td>4</td>\n",
       "      <td>628.0</td>\n",
       "      <td>620</td>\n",
       "      <td>804.0</td>\n",
       "      <td>750</td>\n",
       "      <td>WN</td>\n",
       "      <td>448</td>\n",
       "      <td>96.0</td>\n",
       "      <td>90.0</td>\n",
       "      <td>76.0</td>\n",
       "      <td>14.0</td>\n",
       "      <td>8.0</td>\n",
       "      <td>IND</td>\n",
       "      <td>BWI</td>\n",
       "      <td>515</td>\n",
       "      <td>0</td>\n",
       "    </tr>\n",
       "    <tr>\n",
       "      <th>3</th>\n",
       "      <td>1</td>\n",
       "      <td>3</td>\n",
       "      <td>4</td>\n",
       "      <td>1829.0</td>\n",
       "      <td>1755</td>\n",
       "      <td>1959.0</td>\n",
       "      <td>1925</td>\n",
       "      <td>WN</td>\n",
       "      <td>3920</td>\n",
       "      <td>90.0</td>\n",
       "      <td>90.0</td>\n",
       "      <td>77.0</td>\n",
       "      <td>34.0</td>\n",
       "      <td>34.0</td>\n",
       "      <td>IND</td>\n",
       "      <td>BWI</td>\n",
       "      <td>515</td>\n",
       "      <td>0</td>\n",
       "    </tr>\n",
       "    <tr>\n",
       "      <th>4</th>\n",
       "      <td>1</td>\n",
       "      <td>3</td>\n",
       "      <td>4</td>\n",
       "      <td>1940.0</td>\n",
       "      <td>1915</td>\n",
       "      <td>2121.0</td>\n",
       "      <td>2110</td>\n",
       "      <td>WN</td>\n",
       "      <td>378</td>\n",
       "      <td>101.0</td>\n",
       "      <td>115.0</td>\n",
       "      <td>87.0</td>\n",
       "      <td>11.0</td>\n",
       "      <td>25.0</td>\n",
       "      <td>IND</td>\n",
       "      <td>JAX</td>\n",
       "      <td>688</td>\n",
       "      <td>0</td>\n",
       "    </tr>\n",
       "  </tbody>\n",
       "</table>\n",
       "</div>"
      ],
      "text/plain": [
       "   Month  DayofMonth  DayOfWeek  DepTime  CRSDepTime  ArrTime  CRSArrTime  \\\n",
       "0      1           3          4   2003.0        1955   2211.0        2225   \n",
       "1      1           3          4    754.0         735   1002.0        1000   \n",
       "2      1           3          4    628.0         620    804.0         750   \n",
       "3      1           3          4   1829.0        1755   1959.0        1925   \n",
       "4      1           3          4   1940.0        1915   2121.0        2110   \n",
       "\n",
       "  UniqueCarrier  FlightNum  ActualElapsedTime  CRSElapsedTime  AirTime  \\\n",
       "0            WN        335              128.0           150.0    116.0   \n",
       "1            WN       3231              128.0           145.0    113.0   \n",
       "2            WN        448               96.0            90.0     76.0   \n",
       "3            WN       3920               90.0            90.0     77.0   \n",
       "4            WN        378              101.0           115.0     87.0   \n",
       "\n",
       "   ArrDelay  DepDelay Origin Dest  Distance  Cancelled  \n",
       "0     -14.0       8.0    IAD  TPA       810          0  \n",
       "1       2.0      19.0    IAD  TPA       810          0  \n",
       "2      14.0       8.0    IND  BWI       515          0  \n",
       "3      34.0      34.0    IND  BWI       515          0  \n",
       "4      11.0      25.0    IND  JAX       688          0  "
      ]
     },
     "execution_count": 39,
     "metadata": {},
     "output_type": "execute_result"
    }
   ],
   "source": [
    "newDf.head()"
   ]
  },
  {
   "cell_type": "code",
   "execution_count": null,
   "id": "2307a661",
   "metadata": {},
   "outputs": [],
   "source": []
  },
  {
   "cell_type": "code",
   "execution_count": null,
   "id": "467131d2",
   "metadata": {},
   "outputs": [],
   "source": []
  },
  {
   "cell_type": "markdown",
   "id": "7291f17f",
   "metadata": {},
   "source": [
    "### Exercici 2\n",
    "\n",
    "Fes un informe complet del data set:.\n",
    "\n",
    "    Resumeix estadísticament les columnes d’interès\n",
    "    Troba quantes dades faltants hi ha per columna\n",
    "    Crea columnes noves (velocitat mitjana del vol, si ha arribat tard o no...)\n",
    "    Taula de les aerolínies amb més endarreriments acumulats\n",
    "    Quins són els vols més llargs? I els més endarrerits?\n",
    "    Etc.\n"
   ]
  },
  {
   "cell_type": "markdown",
   "id": "778f0a16",
   "metadata": {},
   "source": [
    "##### Resumeix estadísticament les columnes d’interès"
   ]
  },
  {
   "cell_type": "code",
   "execution_count": 40,
   "id": "013eec6d",
   "metadata": {},
   "outputs": [
    {
     "data": {
      "text/html": [
       "<div>\n",
       "<style scoped>\n",
       "    .dataframe tbody tr th:only-of-type {\n",
       "        vertical-align: middle;\n",
       "    }\n",
       "\n",
       "    .dataframe tbody tr th {\n",
       "        vertical-align: top;\n",
       "    }\n",
       "\n",
       "    .dataframe thead th {\n",
       "        text-align: right;\n",
       "    }\n",
       "</style>\n",
       "<table border=\"1\" class=\"dataframe\">\n",
       "  <thead>\n",
       "    <tr style=\"text-align: right;\">\n",
       "      <th></th>\n",
       "      <th>DayOfWeek</th>\n",
       "      <th>ActualElapsedTime</th>\n",
       "      <th>ArrDelay</th>\n",
       "      <th>DepDelay</th>\n",
       "      <th>Distance</th>\n",
       "      <th>FlightNum</th>\n",
       "    </tr>\n",
       "  </thead>\n",
       "  <tbody>\n",
       "    <tr>\n",
       "      <th>count</th>\n",
       "      <td>1.936758e+06</td>\n",
       "      <td>1.928371e+06</td>\n",
       "      <td>1.928371e+06</td>\n",
       "      <td>1.936758e+06</td>\n",
       "      <td>1.936758e+06</td>\n",
       "      <td>1.936758e+06</td>\n",
       "    </tr>\n",
       "    <tr>\n",
       "      <th>mean</th>\n",
       "      <td>3.984827e+00</td>\n",
       "      <td>1.333059e+02</td>\n",
       "      <td>4.219988e+01</td>\n",
       "      <td>4.318518e+01</td>\n",
       "      <td>7.656862e+02</td>\n",
       "      <td>2.184263e+03</td>\n",
       "    </tr>\n",
       "    <tr>\n",
       "      <th>std</th>\n",
       "      <td>1.995966e+00</td>\n",
       "      <td>7.206007e+01</td>\n",
       "      <td>5.678472e+01</td>\n",
       "      <td>5.340250e+01</td>\n",
       "      <td>5.744797e+02</td>\n",
       "      <td>1.944702e+03</td>\n",
       "    </tr>\n",
       "    <tr>\n",
       "      <th>min</th>\n",
       "      <td>1.000000e+00</td>\n",
       "      <td>1.400000e+01</td>\n",
       "      <td>-1.090000e+02</td>\n",
       "      <td>6.000000e+00</td>\n",
       "      <td>1.100000e+01</td>\n",
       "      <td>1.000000e+00</td>\n",
       "    </tr>\n",
       "    <tr>\n",
       "      <th>25%</th>\n",
       "      <td>2.000000e+00</td>\n",
       "      <td>8.000000e+01</td>\n",
       "      <td>9.000000e+00</td>\n",
       "      <td>1.200000e+01</td>\n",
       "      <td>3.380000e+02</td>\n",
       "      <td>6.100000e+02</td>\n",
       "    </tr>\n",
       "    <tr>\n",
       "      <th>50%</th>\n",
       "      <td>4.000000e+00</td>\n",
       "      <td>1.160000e+02</td>\n",
       "      <td>2.400000e+01</td>\n",
       "      <td>2.400000e+01</td>\n",
       "      <td>6.060000e+02</td>\n",
       "      <td>1.543000e+03</td>\n",
       "    </tr>\n",
       "    <tr>\n",
       "      <th>75%</th>\n",
       "      <td>6.000000e+00</td>\n",
       "      <td>1.650000e+02</td>\n",
       "      <td>5.600000e+01</td>\n",
       "      <td>5.300000e+01</td>\n",
       "      <td>9.980000e+02</td>\n",
       "      <td>3.422000e+03</td>\n",
       "    </tr>\n",
       "    <tr>\n",
       "      <th>max</th>\n",
       "      <td>7.000000e+00</td>\n",
       "      <td>1.114000e+03</td>\n",
       "      <td>2.461000e+03</td>\n",
       "      <td>2.467000e+03</td>\n",
       "      <td>4.962000e+03</td>\n",
       "      <td>9.742000e+03</td>\n",
       "    </tr>\n",
       "  </tbody>\n",
       "</table>\n",
       "</div>"
      ],
      "text/plain": [
       "          DayOfWeek  ActualElapsedTime      ArrDelay      DepDelay  \\\n",
       "count  1.936758e+06       1.928371e+06  1.928371e+06  1.936758e+06   \n",
       "mean   3.984827e+00       1.333059e+02  4.219988e+01  4.318518e+01   \n",
       "std    1.995966e+00       7.206007e+01  5.678472e+01  5.340250e+01   \n",
       "min    1.000000e+00       1.400000e+01 -1.090000e+02  6.000000e+00   \n",
       "25%    2.000000e+00       8.000000e+01  9.000000e+00  1.200000e+01   \n",
       "50%    4.000000e+00       1.160000e+02  2.400000e+01  2.400000e+01   \n",
       "75%    6.000000e+00       1.650000e+02  5.600000e+01  5.300000e+01   \n",
       "max    7.000000e+00       1.114000e+03  2.461000e+03  2.467000e+03   \n",
       "\n",
       "           Distance     FlightNum  \n",
       "count  1.936758e+06  1.936758e+06  \n",
       "mean   7.656862e+02  2.184263e+03  \n",
       "std    5.744797e+02  1.944702e+03  \n",
       "min    1.100000e+01  1.000000e+00  \n",
       "25%    3.380000e+02  6.100000e+02  \n",
       "50%    6.060000e+02  1.543000e+03  \n",
       "75%    9.980000e+02  3.422000e+03  \n",
       "max    4.962000e+03  9.742000e+03  "
      ]
     },
     "execution_count": 40,
     "metadata": {},
     "output_type": "execute_result"
    }
   ],
   "source": [
    "newDf2 = newDf[[\"DayOfWeek\", \"UniqueCarrier\", \"ActualElapsedTime\", \"ArrDelay\", \"DepDelay\", \"Origin\", \"Dest\", \"Distance\", \"FlightNum\"]].copy()\n",
    "\n",
    "newDf2.describe()"
   ]
  },
  {
   "cell_type": "markdown",
   "id": "c0edbac8",
   "metadata": {},
   "source": [
    "##### Velocitat mitjana de vol \n",
    "\n",
    "La velocitat mitjana es calcula per l'expressió: distancia / temps de vol\n",
    "\n",
    "Passos:\n",
    "    Treure els valors nuls, si n'hi ha.\n",
    "    Passar la distància a km (ara està en milles) i guardar-la en una columna\n"
   ]
  },
  {
   "cell_type": "code",
   "execution_count": 41,
   "id": "296e29ed",
   "metadata": {},
   "outputs": [
    {
     "name": "stdout",
     "output_type": "stream",
     "text": [
      "Nombre de columnes amb dades faltants: 2\n",
      "Són: \n",
      "  - A la columna 'ActualElapsedTime' li falten 8387 dades.\n",
      "  - A la columna 'ArrDelay' li falten 8387 dades.\n"
     ]
    }
   ],
   "source": [
    "# Saber si hi ha valors nuls\n",
    "miss_values_count = newDf2.isnull().sum()\n",
    "miss_values_count = miss_values_count[miss_values_count != 0]\n",
    "\n",
    "print(f\"Nombre de columnes amb dades faltants: {miss_values_count.shape[0]}\")\n",
    "if miss_values_count.shape[0]:\n",
    "    print(\"Són: \")\n",
    "    for name, miss_vals in miss_values_count.items():\n",
    "        p = miss_vals > 1\n",
    "        print(f\"  - A la columna '{name}' li falten \"\n",
    "              f\"{miss_vals} dades.\")"
   ]
  },
  {
   "cell_type": "markdown",
   "id": "600d3df4",
   "metadata": {},
   "source": [
    "La columna ActualElapsedTime és especialment important perquè dona el temps real de vol \n",
    "\n",
    "(és la diferència en minuts entre ArrTime i DepTime, les hores reals d'arribada i sortida, respectivament)."
   ]
  },
  {
   "cell_type": "code",
   "execution_count": 42,
   "id": "a3ac1399",
   "metadata": {},
   "outputs": [],
   "source": [
    "# Treure els valors nuls\n",
    "\n",
    "newDf2= newDf2.dropna(subset = [\"ActualElapsedTime\"])"
   ]
  },
  {
   "cell_type": "code",
   "execution_count": 43,
   "id": "59b48b47",
   "metadata": {},
   "outputs": [
    {
     "data": {
      "text/plain": [
       "0"
      ]
     },
     "execution_count": 43,
     "metadata": {},
     "output_type": "execute_result"
    }
   ],
   "source": [
    "# Quants valors nuls tenim ara a ActualElapsedTime?\n",
    "newDf2.ActualElapsedTime.isnull().sum()"
   ]
  },
  {
   "cell_type": "code",
   "execution_count": 69,
   "id": "56906dc2",
   "metadata": {},
   "outputs": [
    {
     "data": {
      "text/plain": [
       "0"
      ]
     },
     "execution_count": 69,
     "metadata": {},
     "output_type": "execute_result"
    }
   ],
   "source": [
    "# I a ArrDelay?\n",
    "newDf2.ArrDelay.isnull().sum()"
   ]
  },
  {
   "cell_type": "code",
   "execution_count": 44,
   "id": "0ae079d8",
   "metadata": {},
   "outputs": [
    {
     "data": {
      "text/plain": [
       "0    1303.5654\n",
       "1    1303.5654\n",
       "2     828.8101\n",
       "Name: DistanceKm, dtype: float64"
      ]
     },
     "execution_count": 44,
     "metadata": {},
     "output_type": "execute_result"
    }
   ],
   "source": [
    "# Crearem una nova columna amb la distància en km\n",
    "newDf2[\"DistanceKm\"] = newDf2[\"Distance\"] * 1.60934\n",
    "newDf2[\"DistanceKm\"].head(3)"
   ]
  },
  {
   "cell_type": "code",
   "execution_count": 45,
   "id": "86134234",
   "metadata": {},
   "outputs": [
    {
     "data": {
      "text/html": [
       "<div>\n",
       "<style scoped>\n",
       "    .dataframe tbody tr th:only-of-type {\n",
       "        vertical-align: middle;\n",
       "    }\n",
       "\n",
       "    .dataframe tbody tr th {\n",
       "        vertical-align: top;\n",
       "    }\n",
       "\n",
       "    .dataframe thead th {\n",
       "        text-align: right;\n",
       "    }\n",
       "</style>\n",
       "<table border=\"1\" class=\"dataframe\">\n",
       "  <thead>\n",
       "    <tr style=\"text-align: right;\">\n",
       "      <th></th>\n",
       "      <th>DayOfWeek</th>\n",
       "      <th>UniqueCarrier</th>\n",
       "      <th>ActualElapsedTime</th>\n",
       "      <th>ArrDelay</th>\n",
       "      <th>DepDelay</th>\n",
       "      <th>Origin</th>\n",
       "      <th>Dest</th>\n",
       "      <th>Distance</th>\n",
       "      <th>FlightNum</th>\n",
       "      <th>DistanceKm</th>\n",
       "      <th>FlightVelociy</th>\n",
       "    </tr>\n",
       "  </thead>\n",
       "  <tbody>\n",
       "    <tr>\n",
       "      <th>0</th>\n",
       "      <td>4</td>\n",
       "      <td>WN</td>\n",
       "      <td>128.0</td>\n",
       "      <td>-14.0</td>\n",
       "      <td>8.0</td>\n",
       "      <td>IAD</td>\n",
       "      <td>TPA</td>\n",
       "      <td>810</td>\n",
       "      <td>335</td>\n",
       "      <td>1303.56540</td>\n",
       "      <td>611.046281</td>\n",
       "    </tr>\n",
       "    <tr>\n",
       "      <th>1</th>\n",
       "      <td>4</td>\n",
       "      <td>WN</td>\n",
       "      <td>128.0</td>\n",
       "      <td>2.0</td>\n",
       "      <td>19.0</td>\n",
       "      <td>IAD</td>\n",
       "      <td>TPA</td>\n",
       "      <td>810</td>\n",
       "      <td>3231</td>\n",
       "      <td>1303.56540</td>\n",
       "      <td>611.046281</td>\n",
       "    </tr>\n",
       "    <tr>\n",
       "      <th>2</th>\n",
       "      <td>4</td>\n",
       "      <td>WN</td>\n",
       "      <td>96.0</td>\n",
       "      <td>14.0</td>\n",
       "      <td>8.0</td>\n",
       "      <td>IND</td>\n",
       "      <td>BWI</td>\n",
       "      <td>515</td>\n",
       "      <td>448</td>\n",
       "      <td>828.81010</td>\n",
       "      <td>518.006313</td>\n",
       "    </tr>\n",
       "    <tr>\n",
       "      <th>3</th>\n",
       "      <td>4</td>\n",
       "      <td>WN</td>\n",
       "      <td>90.0</td>\n",
       "      <td>34.0</td>\n",
       "      <td>34.0</td>\n",
       "      <td>IND</td>\n",
       "      <td>BWI</td>\n",
       "      <td>515</td>\n",
       "      <td>3920</td>\n",
       "      <td>828.81010</td>\n",
       "      <td>552.540067</td>\n",
       "    </tr>\n",
       "    <tr>\n",
       "      <th>4</th>\n",
       "      <td>4</td>\n",
       "      <td>WN</td>\n",
       "      <td>101.0</td>\n",
       "      <td>11.0</td>\n",
       "      <td>25.0</td>\n",
       "      <td>IND</td>\n",
       "      <td>JAX</td>\n",
       "      <td>688</td>\n",
       "      <td>378</td>\n",
       "      <td>1107.22592</td>\n",
       "      <td>657.757972</td>\n",
       "    </tr>\n",
       "  </tbody>\n",
       "</table>\n",
       "</div>"
      ],
      "text/plain": [
       "   DayOfWeek UniqueCarrier  ActualElapsedTime  ArrDelay  DepDelay Origin Dest  \\\n",
       "0          4            WN              128.0     -14.0       8.0    IAD  TPA   \n",
       "1          4            WN              128.0       2.0      19.0    IAD  TPA   \n",
       "2          4            WN               96.0      14.0       8.0    IND  BWI   \n",
       "3          4            WN               90.0      34.0      34.0    IND  BWI   \n",
       "4          4            WN              101.0      11.0      25.0    IND  JAX   \n",
       "\n",
       "   Distance  FlightNum  DistanceKm  FlightVelociy  \n",
       "0       810        335  1303.56540     611.046281  \n",
       "1       810       3231  1303.56540     611.046281  \n",
       "2       515        448   828.81010     518.006313  \n",
       "3       515       3920   828.81010     552.540067  \n",
       "4       688        378  1107.22592     657.757972  "
      ]
     },
     "execution_count": 45,
     "metadata": {},
     "output_type": "execute_result"
    }
   ],
   "source": [
    "# Ara ja podem calcular la mitjana de la velocitat de cada vol: distància / temps de vol\n",
    "\n",
    "# Afegirem una columna que ens doni els km/hora\n",
    "newDf2[\"FlightVelociy\"] = (newDf2[\"DistanceKm\"] / newDf2[\"ActualElapsedTime\"]) * 60\n",
    "newDf2.head()"
   ]
  },
  {
   "cell_type": "code",
   "execution_count": 46,
   "id": "58050427",
   "metadata": {},
   "outputs": [
    {
     "data": {
      "text/plain": [
       "DayOfWeek\n",
       "4    2676.102514\n",
       "5    1998.800280\n",
       "6    1609.340000\n",
       "7    1577.153200\n",
       "2    1204.164988\n",
       "1    1172.135967\n",
       "3    1166.268581\n",
       "Name: FlightVelociy, dtype: float64"
      ]
     },
     "execution_count": 46,
     "metadata": {},
     "output_type": "execute_result"
    }
   ],
   "source": [
    "# Vol més ràpid per dia de la setmana\n",
    "newDf2.groupby(by = [\"DayOfWeek\"])[\"FlightVelociy\"].max().sort_values(ascending = False)"
   ]
  },
  {
   "cell_type": "markdown",
   "id": "74f99078",
   "metadata": {},
   "source": [
    "##### Ha arribat tard un vol?\n",
    "\n",
    "La columna ArrDelay mesura l'endarreriment o avançament dels vols en minuts. \n",
    "\n",
    "Aplicarem la regla que es considera endarrerit un vol quan el temps excedeix dels 15 minuts i ho guardarem a una columna."
   ]
  },
  {
   "cell_type": "code",
   "execution_count": 47,
   "id": "7f5dc6c9",
   "metadata": {},
   "outputs": [],
   "source": [
    "newDf2[\"Delayed\"] = newDf2.ArrDelay > 15"
   ]
  },
  {
   "cell_type": "code",
   "execution_count": 48,
   "id": "3455d3b3",
   "metadata": {},
   "outputs": [
    {
     "data": {
      "text/html": [
       "<div>\n",
       "<style scoped>\n",
       "    .dataframe tbody tr th:only-of-type {\n",
       "        vertical-align: middle;\n",
       "    }\n",
       "\n",
       "    .dataframe tbody tr th {\n",
       "        vertical-align: top;\n",
       "    }\n",
       "\n",
       "    .dataframe thead th {\n",
       "        text-align: right;\n",
       "    }\n",
       "</style>\n",
       "<table border=\"1\" class=\"dataframe\">\n",
       "  <thead>\n",
       "    <tr style=\"text-align: right;\">\n",
       "      <th></th>\n",
       "      <th>DayOfWeek</th>\n",
       "      <th>UniqueCarrier</th>\n",
       "      <th>ActualElapsedTime</th>\n",
       "      <th>ArrDelay</th>\n",
       "      <th>DepDelay</th>\n",
       "      <th>Origin</th>\n",
       "      <th>Dest</th>\n",
       "      <th>Distance</th>\n",
       "      <th>FlightNum</th>\n",
       "      <th>DistanceKm</th>\n",
       "      <th>FlightVelociy</th>\n",
       "      <th>Delayed</th>\n",
       "    </tr>\n",
       "  </thead>\n",
       "  <tbody>\n",
       "    <tr>\n",
       "      <th>0</th>\n",
       "      <td>4</td>\n",
       "      <td>WN</td>\n",
       "      <td>128.0</td>\n",
       "      <td>-14.0</td>\n",
       "      <td>8.0</td>\n",
       "      <td>IAD</td>\n",
       "      <td>TPA</td>\n",
       "      <td>810</td>\n",
       "      <td>335</td>\n",
       "      <td>1303.56540</td>\n",
       "      <td>611.046281</td>\n",
       "      <td>False</td>\n",
       "    </tr>\n",
       "    <tr>\n",
       "      <th>1</th>\n",
       "      <td>4</td>\n",
       "      <td>WN</td>\n",
       "      <td>128.0</td>\n",
       "      <td>2.0</td>\n",
       "      <td>19.0</td>\n",
       "      <td>IAD</td>\n",
       "      <td>TPA</td>\n",
       "      <td>810</td>\n",
       "      <td>3231</td>\n",
       "      <td>1303.56540</td>\n",
       "      <td>611.046281</td>\n",
       "      <td>False</td>\n",
       "    </tr>\n",
       "    <tr>\n",
       "      <th>2</th>\n",
       "      <td>4</td>\n",
       "      <td>WN</td>\n",
       "      <td>96.0</td>\n",
       "      <td>14.0</td>\n",
       "      <td>8.0</td>\n",
       "      <td>IND</td>\n",
       "      <td>BWI</td>\n",
       "      <td>515</td>\n",
       "      <td>448</td>\n",
       "      <td>828.81010</td>\n",
       "      <td>518.006313</td>\n",
       "      <td>False</td>\n",
       "    </tr>\n",
       "    <tr>\n",
       "      <th>3</th>\n",
       "      <td>4</td>\n",
       "      <td>WN</td>\n",
       "      <td>90.0</td>\n",
       "      <td>34.0</td>\n",
       "      <td>34.0</td>\n",
       "      <td>IND</td>\n",
       "      <td>BWI</td>\n",
       "      <td>515</td>\n",
       "      <td>3920</td>\n",
       "      <td>828.81010</td>\n",
       "      <td>552.540067</td>\n",
       "      <td>True</td>\n",
       "    </tr>\n",
       "    <tr>\n",
       "      <th>4</th>\n",
       "      <td>4</td>\n",
       "      <td>WN</td>\n",
       "      <td>101.0</td>\n",
       "      <td>11.0</td>\n",
       "      <td>25.0</td>\n",
       "      <td>IND</td>\n",
       "      <td>JAX</td>\n",
       "      <td>688</td>\n",
       "      <td>378</td>\n",
       "      <td>1107.22592</td>\n",
       "      <td>657.757972</td>\n",
       "      <td>False</td>\n",
       "    </tr>\n",
       "  </tbody>\n",
       "</table>\n",
       "</div>"
      ],
      "text/plain": [
       "   DayOfWeek UniqueCarrier  ActualElapsedTime  ArrDelay  DepDelay Origin Dest  \\\n",
       "0          4            WN              128.0     -14.0       8.0    IAD  TPA   \n",
       "1          4            WN              128.0       2.0      19.0    IAD  TPA   \n",
       "2          4            WN               96.0      14.0       8.0    IND  BWI   \n",
       "3          4            WN               90.0      34.0      34.0    IND  BWI   \n",
       "4          4            WN              101.0      11.0      25.0    IND  JAX   \n",
       "\n",
       "   Distance  FlightNum  DistanceKm  FlightVelociy  Delayed  \n",
       "0       810        335  1303.56540     611.046281    False  \n",
       "1       810       3231  1303.56540     611.046281    False  \n",
       "2       515        448   828.81010     518.006313    False  \n",
       "3       515       3920   828.81010     552.540067     True  \n",
       "4       688        378  1107.22592     657.757972    False  "
      ]
     },
     "execution_count": 48,
     "metadata": {},
     "output_type": "execute_result"
    }
   ],
   "source": [
    "newDf2.head()"
   ]
  },
  {
   "cell_type": "code",
   "execution_count": 49,
   "id": "a92f138b",
   "metadata": {},
   "outputs": [
    {
     "data": {
      "text/html": [
       "<div>\n",
       "<style scoped>\n",
       "    .dataframe tbody tr th:only-of-type {\n",
       "        vertical-align: middle;\n",
       "    }\n",
       "\n",
       "    .dataframe tbody tr th {\n",
       "        vertical-align: top;\n",
       "    }\n",
       "\n",
       "    .dataframe thead th {\n",
       "        text-align: right;\n",
       "    }\n",
       "</style>\n",
       "<table border=\"1\" class=\"dataframe\">\n",
       "  <thead>\n",
       "    <tr style=\"text-align: right;\">\n",
       "      <th></th>\n",
       "      <th>DayOfWeek</th>\n",
       "      <th>UniqueCarrier</th>\n",
       "      <th>ActualElapsedTime</th>\n",
       "      <th>ArrDelay</th>\n",
       "      <th>DepDelay</th>\n",
       "      <th>Origin</th>\n",
       "      <th>Dest</th>\n",
       "      <th>Distance</th>\n",
       "      <th>FlightNum</th>\n",
       "      <th>DistanceKm</th>\n",
       "      <th>FlightVelociy</th>\n",
       "    </tr>\n",
       "    <tr>\n",
       "      <th>Delayed</th>\n",
       "      <th></th>\n",
       "      <th></th>\n",
       "      <th></th>\n",
       "      <th></th>\n",
       "      <th></th>\n",
       "      <th></th>\n",
       "      <th></th>\n",
       "      <th></th>\n",
       "      <th></th>\n",
       "      <th></th>\n",
       "      <th></th>\n",
       "    </tr>\n",
       "  </thead>\n",
       "  <tbody>\n",
       "    <tr>\n",
       "      <th>False</th>\n",
       "      <td>713359</td>\n",
       "      <td>713359</td>\n",
       "      <td>713359</td>\n",
       "      <td>713359</td>\n",
       "      <td>713359</td>\n",
       "      <td>713359</td>\n",
       "      <td>713359</td>\n",
       "      <td>713359</td>\n",
       "      <td>713359</td>\n",
       "      <td>713359</td>\n",
       "      <td>713359</td>\n",
       "    </tr>\n",
       "    <tr>\n",
       "      <th>True</th>\n",
       "      <td>1215012</td>\n",
       "      <td>1215012</td>\n",
       "      <td>1215012</td>\n",
       "      <td>1215012</td>\n",
       "      <td>1215012</td>\n",
       "      <td>1215012</td>\n",
       "      <td>1215012</td>\n",
       "      <td>1215012</td>\n",
       "      <td>1215012</td>\n",
       "      <td>1215012</td>\n",
       "      <td>1215012</td>\n",
       "    </tr>\n",
       "  </tbody>\n",
       "</table>\n",
       "</div>"
      ],
      "text/plain": [
       "         DayOfWeek  UniqueCarrier  ActualElapsedTime  ArrDelay  DepDelay  \\\n",
       "Delayed                                                                    \n",
       "False       713359         713359             713359    713359    713359   \n",
       "True       1215012        1215012            1215012   1215012   1215012   \n",
       "\n",
       "          Origin     Dest  Distance  FlightNum  DistanceKm  FlightVelociy  \n",
       "Delayed                                                                    \n",
       "False     713359   713359    713359     713359      713359         713359  \n",
       "True     1215012  1215012   1215012    1215012     1215012        1215012  "
      ]
     },
     "execution_count": 49,
     "metadata": {},
     "output_type": "execute_result"
    }
   ],
   "source": [
    "# Quants vols han arribar tard i quants no?\n",
    "newDf2.groupby(by = [\"Delayed\"]).count()\n"
   ]
  },
  {
   "cell_type": "code",
   "execution_count": 50,
   "id": "2c952796",
   "metadata": {},
   "outputs": [
    {
     "data": {
      "text/plain": [
       "1215012"
      ]
     },
     "execution_count": 50,
     "metadata": {},
     "output_type": "execute_result"
    }
   ],
   "source": [
    "newDf2.groupby(by = [\"Delayed\"]).count().max()[0]"
   ]
  },
  {
   "cell_type": "code",
   "execution_count": 51,
   "id": "0788e123",
   "metadata": {},
   "outputs": [
    {
     "name": "stdout",
     "output_type": "stream",
     "text": [
      "Van amb algun retard el 63.01 % dels vols!\n"
     ]
    }
   ],
   "source": [
    "numVolsTotal = newDf2.count()[0]\n",
    "\n",
    "print(\"Van amb algun retard el\", round(100*numVolsEndarrerits/numVolsTotal, 2), \"% dels vols!\")"
   ]
  },
  {
   "cell_type": "markdown",
   "id": "4f1359d4",
   "metadata": {},
   "source": [
    "#### I amb retard greu (més d'una hora)?"
   ]
  },
  {
   "cell_type": "code",
   "execution_count": 68,
   "id": "a594a87d",
   "metadata": {},
   "outputs": [
    {
     "name": "stdout",
     "output_type": "stream",
     "text": [
      "Van amb retard greu el 22.77 % dels vols!\n"
     ]
    }
   ],
   "source": [
    "retardGreu = newDf2[newDf2.ArrDelay > 60].count()[0]\n",
    "\n",
    "print(\"Van amb retard greu el\", round(100*retardGreu/numVolsTotal, 2), \"% dels vols!\")"
   ]
  },
  {
   "cell_type": "markdown",
   "id": "b79975e5",
   "metadata": {},
   "source": [
    "##### Les 5 aerolínies amb més vols amb retards "
   ]
  },
  {
   "cell_type": "code",
   "execution_count": 52,
   "id": "47cf727c",
   "metadata": {},
   "outputs": [
    {
     "data": {
      "text/plain": [
       "UniqueCarrier\n",
       "WN    196424\n",
       "AA    129401\n",
       "MQ     95126\n",
       "UA     93355\n",
       "OO     86619\n",
       "Name: UniqueCarrier, dtype: int64"
      ]
     },
     "execution_count": 52,
     "metadata": {},
     "output_type": "execute_result"
    }
   ],
   "source": [
    "newDf2[newDf2[\"Delayed\"] == True].groupby(\"UniqueCarrier\")[\"UniqueCarrier\"].count().sort_values(ascending = False).head(5)"
   ]
  },
  {
   "cell_type": "markdown",
   "id": "df6352c1",
   "metadata": {},
   "source": [
    "##### Llista d'aerolínies per la quantitat de vols"
   ]
  },
  {
   "cell_type": "code",
   "execution_count": 73,
   "id": "93ba1f2c",
   "metadata": {},
   "outputs": [
    {
     "data": {
      "text/plain": [
       "UniqueCarrier\n",
       "WN    376201\n",
       "AA    190910\n",
       "MQ    141223\n",
       "UA    140904\n",
       "OO    131780\n",
       "DL    113728\n",
       "XE    103147\n",
       "CO     99731\n",
       "US     98007\n",
       "EV     81762\n",
       "NW     78843\n",
       "FL     70969\n",
       "YV     66769\n",
       "B6     54925\n",
       "OH     52453\n",
       "9E     51569\n",
       "AS     39010\n",
       "F9     28224\n",
       "HA      7472\n",
       "AQ       744\n",
       "Name: UniqueCarrier, dtype: int64"
      ]
     },
     "execution_count": 73,
     "metadata": {},
     "output_type": "execute_result"
    }
   ],
   "source": [
    "newDf2.groupby(by = [\"UniqueCarrier\"])[\"UniqueCarrier\"].count().sort_values(ascending = False)"
   ]
  },
  {
   "cell_type": "markdown",
   "id": "1ad2be84",
   "metadata": {},
   "source": [
    "La que més fa és Southwest Airlines (WM), una companyia low-cost amb seu a Atlanta. La següent és American Airlines (AA)."
   ]
  },
  {
   "cell_type": "markdown",
   "id": "e954d7ea",
   "metadata": {},
   "source": [
    "##### Vols més llargs en km"
   ]
  },
  {
   "cell_type": "code",
   "execution_count": 53,
   "id": "be81baf1",
   "metadata": {},
   "outputs": [
    {
     "data": {
      "text/plain": [
       "FlightNum\n",
       "15      7985.54508\n",
       "14      7985.54508\n",
       "851     7245.24868\n",
       "850     7245.24868\n",
       "1560    7245.24868\n",
       "           ...    \n",
       "7391     151.27796\n",
       "6188     107.82578\n",
       "6062     107.82578\n",
       "6916     102.99776\n",
       "9002      48.28020\n",
       "Name: DistanceKm, Length: 7498, dtype: float64"
      ]
     },
     "execution_count": 53,
     "metadata": {},
     "output_type": "execute_result"
    }
   ],
   "source": [
    "newDf2.groupby(by = [\"FlightNum\"]).DistanceKm.max().sort_values(ascending = False)"
   ]
  },
  {
   "cell_type": "code",
   "execution_count": 54,
   "id": "c52da47c",
   "metadata": {},
   "outputs": [
    {
     "data": {
      "text/plain": [
       "7985.54508"
      ]
     },
     "execution_count": 54,
     "metadata": {},
     "output_type": "execute_result"
    }
   ],
   "source": [
    "newDf2[newDf2[\"FlightNum\"] == 15].DistanceKm.max()"
   ]
  },
  {
   "cell_type": "markdown",
   "id": "81867edb",
   "metadata": {},
   "source": [
    "##### Vols que han tingut l'endarreriment més gran"
   ]
  },
  {
   "cell_type": "code",
   "execution_count": 55,
   "id": "e86e1e2d",
   "metadata": {},
   "outputs": [
    {
     "data": {
      "text/plain": [
       "FlightNum\n",
       "808     2461.0\n",
       "1699    2453.0\n",
       "1107    1951.0\n",
       "3538    1707.0\n",
       "357     1655.0\n",
       "         ...  \n",
       "3385       5.0\n",
       "6893       4.0\n",
       "6191       2.0\n",
       "7384       2.0\n",
       "7688       1.0\n",
       "Name: ArrDelay, Length: 7498, dtype: float64"
      ]
     },
     "execution_count": 55,
     "metadata": {},
     "output_type": "execute_result"
    }
   ],
   "source": [
    "newDf2.groupby(by = [\"FlightNum\"]).ArrDelay.max().sort_values(ascending = False)"
   ]
  },
  {
   "cell_type": "markdown",
   "id": "b825682c",
   "metadata": {},
   "source": [
    "##### Vols que més vegades s'han endarrerit"
   ]
  },
  {
   "cell_type": "code",
   "execution_count": 57,
   "id": "d7ade59f",
   "metadata": {},
   "outputs": [
    {
     "data": {
      "text/plain": [
       "FlightNum\n",
       "16      1575\n",
       "50      1539\n",
       "40      1499\n",
       "15      1464\n",
       "44      1440\n",
       "        ... \n",
       "7452       1\n",
       "7458       1\n",
       "6249       1\n",
       "7720       1\n",
       "9741       1\n",
       "Name: ArrDelay, Length: 7498, dtype: int64"
      ]
     },
     "execution_count": 57,
     "metadata": {},
     "output_type": "execute_result"
    }
   ],
   "source": [
    "newDf2.groupby(by = [\"FlightNum\"]).ArrDelay.count().sort_values(ascending = False)"
   ]
  },
  {
   "cell_type": "markdown",
   "id": "44073702",
   "metadata": {},
   "source": [
    "##### Vols que acumulen més endarreriments"
   ]
  },
  {
   "cell_type": "code",
   "execution_count": 58,
   "id": "7f724018",
   "metadata": {},
   "outputs": [
    {
     "data": {
      "text/plain": [
       "FlightNum\n",
       "36      67851.0\n",
       "75      65441.0\n",
       "50      64637.0\n",
       "321     62761.0\n",
       "378     62302.0\n",
       "         ...   \n",
       "6191        2.0\n",
       "7384        2.0\n",
       "7688        1.0\n",
       "6127        0.0\n",
       "3385      -51.0\n",
       "Name: ArrDelay, Length: 7498, dtype: float64"
      ]
     },
     "execution_count": 58,
     "metadata": {},
     "output_type": "execute_result"
    }
   ],
   "source": [
    "newDf2.groupby(by = [\"FlightNum\"]).ArrDelay.sum().sort_values(ascending = False)"
   ]
  },
  {
   "cell_type": "markdown",
   "id": "55eed4ff",
   "metadata": {},
   "source": [
    "##### Dia de la setmana amb més endarriments"
   ]
  },
  {
   "cell_type": "code",
   "execution_count": 59,
   "id": "edbc1913",
   "metadata": {},
   "outputs": [
    {
     "data": {
      "text/plain": [
       "DayOfWeek\n",
       "5    321982\n",
       "1    289822\n",
       "4    288344\n",
       "7    284940\n",
       "3    261498\n",
       "2    259584\n",
       "6    222201\n",
       "Name: ArrDelay, dtype: int64"
      ]
     },
     "execution_count": 59,
     "metadata": {},
     "output_type": "execute_result"
    }
   ],
   "source": [
    "newDf2.groupby(by = [\"DayOfWeek\"]).ArrDelay.count().sort_values(ascending = False)"
   ]
  },
  {
   "cell_type": "markdown",
   "id": "7277ecb3",
   "metadata": {},
   "source": [
    "##### Ciutat destí amb més endarriments"
   ]
  },
  {
   "cell_type": "code",
   "execution_count": 60,
   "id": "82b58752",
   "metadata": {},
   "outputs": [
    {
     "data": {
      "text/plain": [
       "Dest\n",
       "ORD    108265\n",
       "ATL    106540\n",
       "DFW     70181\n",
       "DEN     62850\n",
       "LAX     59843\n",
       "        ...  \n",
       "BLI        13\n",
       "BJI        12\n",
       "INL         9\n",
       "PIR         3\n",
       "TUP         1\n",
       "Name: ArrDelay, Length: 302, dtype: int64"
      ]
     },
     "execution_count": 60,
     "metadata": {},
     "output_type": "execute_result"
    }
   ],
   "source": [
    "newDf2.groupby(by = [\"Dest\"]).ArrDelay.count().sort_values(ascending = False)"
   ]
  },
  {
   "cell_type": "markdown",
   "id": "6267d5ed",
   "metadata": {},
   "source": [
    "És ORD (Chicago), seguit d'Atlanta"
   ]
  },
  {
   "cell_type": "markdown",
   "id": "37eba30c",
   "metadata": {},
   "source": [
    "### Exercici 3\n",
    "\n",
    "Exporta el data set net i amb les noves columnes a Excel."
   ]
  },
  {
   "cell_type": "code",
   "execution_count": null,
   "id": "e53f1aa5",
   "metadata": {},
   "outputs": [],
   "source": [
    "# Com que no es pot exportar a Excel pel tamany ho faré a csv\n",
    "newDf2.to_csv(\"Flights_2008_df_clean.csv\")"
   ]
  },
  {
   "cell_type": "code",
   "execution_count": 61,
   "id": "041cd266",
   "metadata": {},
   "outputs": [
    {
     "ename": "ValueError",
     "evalue": "This sheet is too large! Your sheet size is: 1928371, 12 Max sheet size is: 1048576, 16384",
     "output_type": "error",
     "traceback": [
      "\u001b[1;31m---------------------------------------------------------------------------\u001b[0m",
      "\u001b[1;31mValueError\u001b[0m                                Traceback (most recent call last)",
      "\u001b[1;32m~\\AppData\\Local\\Temp/ipykernel_15100/2732434893.py\u001b[0m in \u001b[0;36m<module>\u001b[1;34m\u001b[0m\n\u001b[1;32m----> 1\u001b[1;33m \u001b[0mnewDf2\u001b[0m\u001b[1;33m.\u001b[0m\u001b[0mto_excel\u001b[0m\u001b[1;33m(\u001b[0m\u001b[1;34m\"Flights_2008_df_clean.xlsx\"\u001b[0m\u001b[1;33m)\u001b[0m\u001b[1;33m\u001b[0m\u001b[1;33m\u001b[0m\u001b[0m\n\u001b[0m",
      "\u001b[1;32mC:\\_programar\\Anaconda3\\lib\\site-packages\\pandas\\core\\generic.py\u001b[0m in \u001b[0;36mto_excel\u001b[1;34m(self, excel_writer, sheet_name, na_rep, float_format, columns, header, index, index_label, startrow, startcol, engine, merge_cells, encoding, inf_rep, verbose, freeze_panes, storage_options)\u001b[0m\n\u001b[0;32m   2282\u001b[0m             \u001b[0minf_rep\u001b[0m\u001b[1;33m=\u001b[0m\u001b[0minf_rep\u001b[0m\u001b[1;33m,\u001b[0m\u001b[1;33m\u001b[0m\u001b[1;33m\u001b[0m\u001b[0m\n\u001b[0;32m   2283\u001b[0m         )\n\u001b[1;32m-> 2284\u001b[1;33m         formatter.write(\n\u001b[0m\u001b[0;32m   2285\u001b[0m             \u001b[0mexcel_writer\u001b[0m\u001b[1;33m,\u001b[0m\u001b[1;33m\u001b[0m\u001b[1;33m\u001b[0m\u001b[0m\n\u001b[0;32m   2286\u001b[0m             \u001b[0msheet_name\u001b[0m\u001b[1;33m=\u001b[0m\u001b[0msheet_name\u001b[0m\u001b[1;33m,\u001b[0m\u001b[1;33m\u001b[0m\u001b[1;33m\u001b[0m\u001b[0m\n",
      "\u001b[1;32mC:\\_programar\\Anaconda3\\lib\\site-packages\\pandas\\io\\formats\\excel.py\u001b[0m in \u001b[0;36mwrite\u001b[1;34m(self, writer, sheet_name, startrow, startcol, freeze_panes, engine, storage_options)\u001b[0m\n\u001b[0;32m    821\u001b[0m         \u001b[0mnum_rows\u001b[0m\u001b[1;33m,\u001b[0m \u001b[0mnum_cols\u001b[0m \u001b[1;33m=\u001b[0m \u001b[0mself\u001b[0m\u001b[1;33m.\u001b[0m\u001b[0mdf\u001b[0m\u001b[1;33m.\u001b[0m\u001b[0mshape\u001b[0m\u001b[1;33m\u001b[0m\u001b[1;33m\u001b[0m\u001b[0m\n\u001b[0;32m    822\u001b[0m         \u001b[1;32mif\u001b[0m \u001b[0mnum_rows\u001b[0m \u001b[1;33m>\u001b[0m \u001b[0mself\u001b[0m\u001b[1;33m.\u001b[0m\u001b[0mmax_rows\u001b[0m \u001b[1;32mor\u001b[0m \u001b[0mnum_cols\u001b[0m \u001b[1;33m>\u001b[0m \u001b[0mself\u001b[0m\u001b[1;33m.\u001b[0m\u001b[0mmax_cols\u001b[0m\u001b[1;33m:\u001b[0m\u001b[1;33m\u001b[0m\u001b[1;33m\u001b[0m\u001b[0m\n\u001b[1;32m--> 823\u001b[1;33m             raise ValueError(\n\u001b[0m\u001b[0;32m    824\u001b[0m                 \u001b[1;34mf\"This sheet is too large! Your sheet size is: {num_rows}, {num_cols} \"\u001b[0m\u001b[1;33m\u001b[0m\u001b[1;33m\u001b[0m\u001b[0m\n\u001b[0;32m    825\u001b[0m                 \u001b[1;34mf\"Max sheet size is: {self.max_rows}, {self.max_cols}\"\u001b[0m\u001b[1;33m\u001b[0m\u001b[1;33m\u001b[0m\u001b[0m\n",
      "\u001b[1;31mValueError\u001b[0m: This sheet is too large! Your sheet size is: 1928371, 12 Max sheet size is: 1048576, 16384"
     ]
    }
   ],
   "source": [
    "newDf2.to_excel(\"Flights_2008_df_clean.xlsx\")"
   ]
  }
 ],
 "metadata": {
  "kernelspec": {
   "display_name": "Python 3 (ipykernel)",
   "language": "python",
   "name": "python3"
  },
  "language_info": {
   "codemirror_mode": {
    "name": "ipython",
    "version": 3
   },
   "file_extension": ".py",
   "mimetype": "text/x-python",
   "name": "python",
   "nbconvert_exporter": "python",
   "pygments_lexer": "ipython3",
   "version": "3.8.8"
  }
 },
 "nbformat": 4,
 "nbformat_minor": 5
}
