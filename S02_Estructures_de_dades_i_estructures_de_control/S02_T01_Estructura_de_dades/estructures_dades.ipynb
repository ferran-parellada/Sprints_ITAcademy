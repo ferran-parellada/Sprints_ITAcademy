{
 "cells": [
  {
   "cell_type": "markdown",
   "id": "ffb72b86",
   "metadata": {},
   "source": [
    "# Exercici 1\n",
    "\n",
    "Crea una llista que agrupi els mesos de l’any en trimestres (1T: Gener, Febrer i Març, 2T: Abril, Maig, Juny...), és a dir, una llista amb 4 llistes dins."
   ]
  },
  {
   "cell_type": "code",
   "execution_count": 1,
   "id": "9615c528",
   "metadata": {},
   "outputs": [],
   "source": [
    "listTrimestres = [['Gener', 'Febrer', 'Març'], ['Abril', 'Maig', 'Juny'], ['Juliol', 'Agost', 'Setembre'], ['Octubre', 'Novembre', 'Desembre']]"
   ]
  },
  {
   "cell_type": "markdown",
   "id": "edaae205",
   "metadata": {},
   "source": [
    "# Exercici 2\n",
    "\n",
    "Crea un codi que et permeti accedir a:\n",
    "\n",
    "    El segon mes del primer trimestre\n",
    "    Els mesos del primer trimestre\n",
    "    Setembre i octubre\n"
   ]
  },
  {
   "cell_type": "code",
   "execution_count": 2,
   "id": "f1a5cdb7",
   "metadata": {},
   "outputs": [
    {
     "name": "stdout",
     "output_type": "stream",
     "text": [
      "Febrer\n"
     ]
    }
   ],
   "source": [
    "primerMesPrimerTrimestre = listTrimestres[0][1]\n",
    "print(primerMesPrimerTrimestre)"
   ]
  },
  {
   "cell_type": "code",
   "execution_count": 3,
   "id": "8fb9ae0b",
   "metadata": {},
   "outputs": [
    {
     "name": "stdout",
     "output_type": "stream",
     "text": [
      "Gener,Febrer,Març\n"
     ]
    }
   ],
   "source": [
    "# L'enunciat no especifica detalls de quina manera accedir. S'entèn que el llistat és suficient.\n",
    "primerTrimestre = listTrimestres[0]\n",
    "print(\",\".join(primerTrimestre))"
   ]
  },
  {
   "cell_type": "code",
   "execution_count": 4,
   "id": "aa565396",
   "metadata": {},
   "outputs": [
    {
     "name": "stdout",
     "output_type": "stream",
     "text": [
      "Setembre Octubre\n"
     ]
    }
   ],
   "source": [
    "# Accés simple\n",
    "setembre = listTrimestres[2][2]\n",
    "octubre = listTrimestres[3][0]\n",
    "print(setembre, octubre)"
   ]
  },
  {
   "cell_type": "code",
   "execution_count": 5,
   "id": "099e5317",
   "metadata": {},
   "outputs": [
    {
     "name": "stdout",
     "output_type": "stream",
     "text": [
      "Setembre\n",
      "Octubre\n"
     ]
    }
   ],
   "source": [
    "# Accés per recerca\n",
    "for trimestre in listTrimestres:\n",
    "    for mes in trimestre:\n",
    "        if mes == 'Setembre': \n",
    "            print(\"Setembre\")\n",
    "            break\n",
    "        if mes == 'Octubre': \n",
    "            print(\"Octubre\")\n",
    "            break"
   ]
  },
  {
   "cell_type": "markdown",
   "id": "560c62c3",
   "metadata": {},
   "source": [
    "# Exercici 3\n",
    "\n",
    "Crea una llista amb nombres desordenats i respon a les següents preguntes:\n",
    "\n",
    "    Quants números hi ha?\n",
    "    Quantes vegades apareix el número 3\n",
    "    Quantes vegades apareixen els nombres 3 i 4?\n",
    "    Quin és el número més gran?\n",
    "    Quins són els 3 números més petits?\n",
    "    Quin és el rang d’aquesta llista?\n"
   ]
  },
  {
   "cell_type": "code",
   "execution_count": 6,
   "id": "93886d3f",
   "metadata": {},
   "outputs": [],
   "source": [
    "listNombresDesordenats = [4,2,9,5,5,4,3,1,6,9,3]"
   ]
  },
  {
   "cell_type": "code",
   "execution_count": 7,
   "id": "45844655",
   "metadata": {},
   "outputs": [
    {
     "name": "stdout",
     "output_type": "stream",
     "text": [
      "Hi ha 11 nombres a la llista\n"
     ]
    }
   ],
   "source": [
    "print(\"Hi ha\", len(listNombresDesordenats), \"nombres a la llista\")"
   ]
  },
  {
   "cell_type": "code",
   "execution_count": 8,
   "id": "1d03e7f6",
   "metadata": {},
   "outputs": [
    {
     "name": "stdout",
     "output_type": "stream",
     "text": [
      "El nombre 3 apareix 2 vegades\n"
     ]
    }
   ],
   "source": [
    "vegades3 = listNombresDesordenats.count(3)\n",
    "print(\"El nombre 3 apareix\", listNombresDesordenats.count(3), \"vegades\")"
   ]
  },
  {
   "cell_type": "code",
   "execution_count": 9,
   "id": "4a9212d4",
   "metadata": {},
   "outputs": [
    {
     "name": "stdout",
     "output_type": "stream",
     "text": [
      "El nombre 3 apareix 2 vegades i el nombre 4 n'apareix 2\n"
     ]
    }
   ],
   "source": [
    "vegades4 = listNombresDesordenats.count(4)\n",
    "print(\"El nombre 3 apareix\", listNombresDesordenats.count(3), \"vegades i el nombre 4 n'apareix\", vegades4)"
   ]
  },
  {
   "cell_type": "code",
   "execution_count": 10,
   "id": "01e30da1",
   "metadata": {},
   "outputs": [
    {
     "name": "stdout",
     "output_type": "stream",
     "text": [
      "El nombre més gran a la llista és 9\n"
     ]
    }
   ],
   "source": [
    "print(\"El nombre més gran a la llista és\", max(listNombresDesordenats))"
   ]
  },
  {
   "cell_type": "code",
   "execution_count": 11,
   "id": "243abc0f",
   "metadata": {},
   "outputs": [
    {
     "name": "stdout",
     "output_type": "stream",
     "text": [
      "[1, 2, 3]\n"
     ]
    }
   ],
   "source": [
    "# Passos:\n",
    "# Convertir la llista en un set per a eliminar els duplicats\n",
    "# A l'aplicar la funció sorted() es torna a convertir en llista\n",
    "# Extreure els tres primers elements\n",
    "listTresMesPetits = sorted(set(listNombresDesordenats))[:3]\n",
    "\n",
    "print(listTresMesPetits)"
   ]
  },
  {
   "cell_type": "code",
   "execution_count": 12,
   "id": "2d7bcced",
   "metadata": {},
   "outputs": [
    {
     "name": "stdout",
     "output_type": "stream",
     "text": [
      "El rang de la llista és 8\n"
     ]
    }
   ],
   "source": [
    "print(\"El rang de la llista és\", max(listNombresDesordenats)-min(listNombresDesordenats))"
   ]
  },
  {
   "cell_type": "markdown",
   "id": "f1cb1c9f",
   "metadata": {},
   "source": [
    "# Exercici 4\n",
    "\n",
    "Crea un diccionari de la següent forma i respon a les preguntes:\n",
    "\n",
    "compra = { \"Pomes\" : {\"Qty\": 5, \"€\": 0.42}, \"Peres\" : {\"Qty\": 3, \"€\": 0.66} }\n",
    "\n",
    "    Afegeix alguna fruita més\n",
    "    Quant han costat les peres en total?\n",
    "    Quantes fruites hem comprat en total?\n",
    "    Quina és la fruita més cara?\n"
   ]
  },
  {
   "cell_type": "code",
   "execution_count": 13,
   "id": "4ca45107",
   "metadata": {},
   "outputs": [],
   "source": [
    "compra = { \"Pomes\" : {\"Qty\": 5, \"€\": 0.42}, \"Peres\" : {\"Qty\": 3, \"€\": 0.66} }"
   ]
  },
  {
   "cell_type": "code",
   "execution_count": 14,
   "id": "5db5e559",
   "metadata": {},
   "outputs": [
    {
     "name": "stdout",
     "output_type": "stream",
     "text": [
      "{'Pomes': {'Qty': 5, '€': 0.42}, 'Peres': {'Qty': 3, '€': 0.66}, 'Mandarines': {'Qty': 10, '€': 1.2}}\n"
     ]
    }
   ],
   "source": [
    "compra[\"Mandarines\"] = {\"Qty\": 10, \"€\": 1.2}\n",
    "print(compra)"
   ]
  },
  {
   "cell_type": "code",
   "execution_count": 15,
   "id": "4371349b",
   "metadata": {},
   "outputs": [
    {
     "name": "stdout",
     "output_type": "stream",
     "text": [
      "Les peres han costat 1.98 €\n"
     ]
    }
   ],
   "source": [
    "costPeres = compra[\"Peres\"]['Qty']*compra[\"Peres\"]['€']\n",
    "print(\"Les peres han costat\", costPeres, \"€\")"
   ]
  },
  {
   "cell_type": "code",
   "execution_count": 16,
   "id": "691992d4",
   "metadata": {},
   "outputs": [
    {
     "name": "stdout",
     "output_type": "stream",
     "text": [
      "Hem comprat 18 fruites\n"
     ]
    }
   ],
   "source": [
    "# Càlcul de la quantitat de fruites per iteració\n",
    "quantitatFruites = 0\n",
    "for fruita in compra:\n",
    "    quantitatFruites += compra[fruita]['Qty']\n",
    "print(\"Hem comprat\", quantitatFruites, \"fruites\")"
   ]
  },
  {
   "cell_type": "code",
   "execution_count": 23,
   "id": "15af0965",
   "metadata": {},
   "outputs": [
    {
     "name": "stdout",
     "output_type": "stream",
     "text": [
      "La fruita més cara és : Mandarines\n"
     ]
    }
   ],
   "source": [
    "fruitaMesCara = \"\"\n",
    "for clau, valor in compra.items():\n",
    "    maxPreu = 0    \n",
    "    if maxPreu < valor['Qty']:\n",
    "        maxPreu = valor['Qty']\n",
    "        fruitaMesCara = clau\n",
    "print(\"La fruita més cara és :\", fruitaMesCara)"
   ]
  },
  {
   "cell_type": "code",
   "execution_count": null,
   "id": "b3f99f91",
   "metadata": {},
   "outputs": [],
   "source": []
  }
 ],
 "metadata": {
  "interpreter": {
   "hash": "88dcb9fe50f3d3f886838e85e39bec853156b284be78326cecda5a39841b4c7e"
  },
  "kernelspec": {
   "display_name": "Python 3",
   "language": "python",
   "name": "python3"
  },
  "language_info": {
   "codemirror_mode": {
    "name": "ipython",
    "version": 3
   },
   "file_extension": ".py",
   "mimetype": "text/x-python",
   "name": "python",
   "nbconvert_exporter": "python",
   "pygments_lexer": "ipython3",
   "version": "3.8.8"
  }
 },
 "nbformat": 4,
 "nbformat_minor": 5
}
