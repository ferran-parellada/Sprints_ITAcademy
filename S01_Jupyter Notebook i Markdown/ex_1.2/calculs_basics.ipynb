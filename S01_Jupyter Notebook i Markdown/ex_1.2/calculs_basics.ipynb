{
 "cells": [
  {
   "cell_type": "markdown",
   "id": "9f85d3d2",
   "metadata": {},
   "source": [
    "# Exemples molt bàsics d'utilització de càlculs amb Jupyter"
   ]
  },
  {
   "cell_type": "markdown",
   "id": "153503cc",
   "metadata": {},
   "source": [
    "Les cel·les equivalen a fragments de codi que s'executen independentment. Per tant cal que la seqüència estigui clara."
   ]
  },
  {
   "cell_type": "code",
   "execution_count": 1,
   "id": "9bceb9e2",
   "metadata": {},
   "outputs": [
    {
     "data": {
      "text/plain": [
       "3"
      ]
     },
     "execution_count": 1,
     "metadata": {},
     "output_type": "execute_result"
    }
   ],
   "source": [
    "# Càlcul directe a la consola\n",
    "1 + 2"
   ]
  },
  {
   "cell_type": "code",
   "execution_count": 2,
   "id": "aeba4f66",
   "metadata": {},
   "outputs": [
    {
     "data": {
      "text/plain": [
       "0.5"
      ]
     },
     "execution_count": 2,
     "metadata": {},
     "output_type": "execute_result"
    }
   ],
   "source": [
    "# Càlcul directe a la consola\n",
    "1 / 2"
   ]
  },
  {
   "cell_type": "code",
   "execution_count": 3,
   "id": "e0487b7c",
   "metadata": {},
   "outputs": [
    {
     "name": "stdout",
     "output_type": "stream",
     "text": [
      "Hola\n"
     ]
    }
   ],
   "source": [
    "# Impressió de variables\n",
    "x = \"Hola\"\n",
    "print(x)"
   ]
  },
  {
   "cell_type": "code",
   "execution_count": 4,
   "id": "9d9b6808",
   "metadata": {},
   "outputs": [
    {
     "name": "stdout",
     "output_type": "stream",
     "text": [
      "3.14\n"
     ]
    }
   ],
   "source": [
    "# El valor de les variables es pot reassignar\n",
    "x = 3.14\n",
    "print(x)"
   ]
  },
  {
   "cell_type": "code",
   "execution_count": 5,
   "id": "8a302847",
   "metadata": {},
   "outputs": [
    {
     "name": "stdout",
     "output_type": "stream",
     "text": [
      "3.14\n"
     ]
    }
   ],
   "source": [
    "# El valor de les variables es manté entre cel·les\n",
    "print(x)"
   ]
  }
 ],
 "metadata": {
  "kernelspec": {
   "display_name": "Python 3",
   "language": "python",
   "name": "python3"
  },
  "language_info": {
   "codemirror_mode": {
    "name": "ipython",
    "version": 3
   },
   "file_extension": ".py",
   "mimetype": "text/x-python",
   "name": "python",
   "nbconvert_exporter": "python",
   "pygments_lexer": "ipython3",
   "version": "3.8.8"
  }
 },
 "nbformat": 4,
 "nbformat_minor": 5
}
